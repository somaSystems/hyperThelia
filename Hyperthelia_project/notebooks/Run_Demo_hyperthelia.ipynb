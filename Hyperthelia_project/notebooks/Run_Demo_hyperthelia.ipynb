{
  "nbformat": 4,
  "nbformat_minor": 0,
  "metadata": {
    "colab": {
      "provenance": [],
      "gpuType": "A100"
    },
    "kernelspec": {
      "name": "python3",
      "display_name": "Python 3"
    },
    "language_info": {
      "name": "python"
    },
    "accelerator": "GPU",
    "widgets": {
      "application/vnd.jupyter.widget-state+json": {
        "289462fb62bf4d52b660d82acb9f039c": {
          "model_module": "@jupyter-widgets/controls",
          "model_name": "HBoxModel",
          "model_module_version": "1.5.0",
          "state": {
            "_dom_classes": [],
            "_model_module": "@jupyter-widgets/controls",
            "_model_module_version": "1.5.0",
            "_model_name": "HBoxModel",
            "_view_count": null,
            "_view_module": "@jupyter-widgets/controls",
            "_view_module_version": "1.5.0",
            "_view_name": "HBoxView",
            "box_style": "",
            "children": [
              "IPY_MODEL_2ef0f4146bdb47f3818ca2b2d57069a4",
              "IPY_MODEL_435fd8e95989494586af4df19db0853d",
              "IPY_MODEL_2e96b1d833d14e2e8207d3692a177117"
            ],
            "layout": "IPY_MODEL_ef1fbd54071648b7b3139d400ab0a8b7"
          }
        },
        "2ef0f4146bdb47f3818ca2b2d57069a4": {
          "model_module": "@jupyter-widgets/controls",
          "model_name": "BoundedIntTextModel",
          "model_module_version": "1.5.0",
          "state": {
            "_dom_classes": [],
            "_model_module": "@jupyter-widgets/controls",
            "_model_module_version": "1.5.0",
            "_model_name": "BoundedIntTextModel",
            "_view_count": null,
            "_view_module": "@jupyter-widgets/controls",
            "_view_module_version": "1.5.0",
            "_view_name": "IntTextView",
            "continuous_update": false,
            "description": "Experiment:",
            "description_tooltip": null,
            "disabled": false,
            "layout": "IPY_MODEL_6229bf2fe06d4a6680e6b917e20e85ae",
            "max": 0,
            "min": 0,
            "step": 1,
            "style": "IPY_MODEL_9b8866cc0f7a4b0aa6ad36ac753911a8",
            "value": 0
          }
        },
        "435fd8e95989494586af4df19db0853d": {
          "model_module": "@jupyter-widgets/controls",
          "model_name": "BoundedIntTextModel",
          "model_module_version": "1.5.0",
          "state": {
            "_dom_classes": [],
            "_model_module": "@jupyter-widgets/controls",
            "_model_module_version": "1.5.0",
            "_model_name": "BoundedIntTextModel",
            "_view_count": null,
            "_view_module": "@jupyter-widgets/controls",
            "_view_module_version": "1.5.0",
            "_view_name": "IntTextView",
            "continuous_update": false,
            "description": "Timepoint:",
            "description_tooltip": null,
            "disabled": false,
            "layout": "IPY_MODEL_c8f43a4dad90419cb58b70d66256e93d",
            "max": 5,
            "min": 0,
            "step": 1,
            "style": "IPY_MODEL_9ab132c048874c48b24973b684fef489",
            "value": 0
          }
        },
        "2e96b1d833d14e2e8207d3692a177117": {
          "model_module": "@jupyter-widgets/controls",
          "model_name": "BoundedIntTextModel",
          "model_module_version": "1.5.0",
          "state": {
            "_dom_classes": [],
            "_model_module": "@jupyter-widgets/controls",
            "_model_module_version": "1.5.0",
            "_model_name": "BoundedIntTextModel",
            "_view_count": null,
            "_view_module": "@jupyter-widgets/controls",
            "_view_module_version": "1.5.0",
            "_view_name": "IntTextView",
            "continuous_update": false,
            "description": "Z-slice:",
            "description_tooltip": null,
            "disabled": false,
            "layout": "IPY_MODEL_4438e8eef53d4868864532b4cccb0c05",
            "max": 29,
            "min": 0,
            "step": 1,
            "style": "IPY_MODEL_cfbc6075a5804ec8970118c4d44084c7",
            "value": 0
          }
        },
        "ef1fbd54071648b7b3139d400ab0a8b7": {
          "model_module": "@jupyter-widgets/base",
          "model_name": "LayoutModel",
          "model_module_version": "1.2.0",
          "state": {
            "_model_module": "@jupyter-widgets/base",
            "_model_module_version": "1.2.0",
            "_model_name": "LayoutModel",
            "_view_count": null,
            "_view_module": "@jupyter-widgets/base",
            "_view_module_version": "1.2.0",
            "_view_name": "LayoutView",
            "align_content": null,
            "align_items": null,
            "align_self": null,
            "border": null,
            "bottom": null,
            "display": null,
            "flex": null,
            "flex_flow": null,
            "grid_area": null,
            "grid_auto_columns": null,
            "grid_auto_flow": null,
            "grid_auto_rows": null,
            "grid_column": null,
            "grid_gap": null,
            "grid_row": null,
            "grid_template_areas": null,
            "grid_template_columns": null,
            "grid_template_rows": null,
            "height": null,
            "justify_content": null,
            "justify_items": null,
            "left": null,
            "margin": null,
            "max_height": null,
            "max_width": null,
            "min_height": null,
            "min_width": null,
            "object_fit": null,
            "object_position": null,
            "order": null,
            "overflow": null,
            "overflow_x": null,
            "overflow_y": null,
            "padding": null,
            "right": null,
            "top": null,
            "visibility": null,
            "width": null
          }
        },
        "6229bf2fe06d4a6680e6b917e20e85ae": {
          "model_module": "@jupyter-widgets/base",
          "model_name": "LayoutModel",
          "model_module_version": "1.2.0",
          "state": {
            "_model_module": "@jupyter-widgets/base",
            "_model_module_version": "1.2.0",
            "_model_name": "LayoutModel",
            "_view_count": null,
            "_view_module": "@jupyter-widgets/base",
            "_view_module_version": "1.2.0",
            "_view_name": "LayoutView",
            "align_content": null,
            "align_items": null,
            "align_self": null,
            "border": null,
            "bottom": null,
            "display": null,
            "flex": null,
            "flex_flow": null,
            "grid_area": null,
            "grid_auto_columns": null,
            "grid_auto_flow": null,
            "grid_auto_rows": null,
            "grid_column": null,
            "grid_gap": null,
            "grid_row": null,
            "grid_template_areas": null,
            "grid_template_columns": null,
            "grid_template_rows": null,
            "height": null,
            "justify_content": null,
            "justify_items": null,
            "left": null,
            "margin": null,
            "max_height": null,
            "max_width": null,
            "min_height": null,
            "min_width": null,
            "object_fit": null,
            "object_position": null,
            "order": null,
            "overflow": null,
            "overflow_x": null,
            "overflow_y": null,
            "padding": null,
            "right": null,
            "top": null,
            "visibility": null,
            "width": null
          }
        },
        "9b8866cc0f7a4b0aa6ad36ac753911a8": {
          "model_module": "@jupyter-widgets/controls",
          "model_name": "DescriptionStyleModel",
          "model_module_version": "1.5.0",
          "state": {
            "_model_module": "@jupyter-widgets/controls",
            "_model_module_version": "1.5.0",
            "_model_name": "DescriptionStyleModel",
            "_view_count": null,
            "_view_module": "@jupyter-widgets/base",
            "_view_module_version": "1.2.0",
            "_view_name": "StyleView",
            "description_width": ""
          }
        },
        "c8f43a4dad90419cb58b70d66256e93d": {
          "model_module": "@jupyter-widgets/base",
          "model_name": "LayoutModel",
          "model_module_version": "1.2.0",
          "state": {
            "_model_module": "@jupyter-widgets/base",
            "_model_module_version": "1.2.0",
            "_model_name": "LayoutModel",
            "_view_count": null,
            "_view_module": "@jupyter-widgets/base",
            "_view_module_version": "1.2.0",
            "_view_name": "LayoutView",
            "align_content": null,
            "align_items": null,
            "align_self": null,
            "border": null,
            "bottom": null,
            "display": null,
            "flex": null,
            "flex_flow": null,
            "grid_area": null,
            "grid_auto_columns": null,
            "grid_auto_flow": null,
            "grid_auto_rows": null,
            "grid_column": null,
            "grid_gap": null,
            "grid_row": null,
            "grid_template_areas": null,
            "grid_template_columns": null,
            "grid_template_rows": null,
            "height": null,
            "justify_content": null,
            "justify_items": null,
            "left": null,
            "margin": null,
            "max_height": null,
            "max_width": null,
            "min_height": null,
            "min_width": null,
            "object_fit": null,
            "object_position": null,
            "order": null,
            "overflow": null,
            "overflow_x": null,
            "overflow_y": null,
            "padding": null,
            "right": null,
            "top": null,
            "visibility": null,
            "width": null
          }
        },
        "9ab132c048874c48b24973b684fef489": {
          "model_module": "@jupyter-widgets/controls",
          "model_name": "DescriptionStyleModel",
          "model_module_version": "1.5.0",
          "state": {
            "_model_module": "@jupyter-widgets/controls",
            "_model_module_version": "1.5.0",
            "_model_name": "DescriptionStyleModel",
            "_view_count": null,
            "_view_module": "@jupyter-widgets/base",
            "_view_module_version": "1.2.0",
            "_view_name": "StyleView",
            "description_width": ""
          }
        },
        "4438e8eef53d4868864532b4cccb0c05": {
          "model_module": "@jupyter-widgets/base",
          "model_name": "LayoutModel",
          "model_module_version": "1.2.0",
          "state": {
            "_model_module": "@jupyter-widgets/base",
            "_model_module_version": "1.2.0",
            "_model_name": "LayoutModel",
            "_view_count": null,
            "_view_module": "@jupyter-widgets/base",
            "_view_module_version": "1.2.0",
            "_view_name": "LayoutView",
            "align_content": null,
            "align_items": null,
            "align_self": null,
            "border": null,
            "bottom": null,
            "display": null,
            "flex": null,
            "flex_flow": null,
            "grid_area": null,
            "grid_auto_columns": null,
            "grid_auto_flow": null,
            "grid_auto_rows": null,
            "grid_column": null,
            "grid_gap": null,
            "grid_row": null,
            "grid_template_areas": null,
            "grid_template_columns": null,
            "grid_template_rows": null,
            "height": null,
            "justify_content": null,
            "justify_items": null,
            "left": null,
            "margin": null,
            "max_height": null,
            "max_width": null,
            "min_height": null,
            "min_width": null,
            "object_fit": null,
            "object_position": null,
            "order": null,
            "overflow": null,
            "overflow_x": null,
            "overflow_y": null,
            "padding": null,
            "right": null,
            "top": null,
            "visibility": null,
            "width": null
          }
        },
        "cfbc6075a5804ec8970118c4d44084c7": {
          "model_module": "@jupyter-widgets/controls",
          "model_name": "DescriptionStyleModel",
          "model_module_version": "1.5.0",
          "state": {
            "_model_module": "@jupyter-widgets/controls",
            "_model_module_version": "1.5.0",
            "_model_name": "DescriptionStyleModel",
            "_view_count": null,
            "_view_module": "@jupyter-widgets/base",
            "_view_module_version": "1.2.0",
            "_view_name": "StyleView",
            "description_width": ""
          }
        },
        "9d7a2a3cea3845a291f1f949e629dda2": {
          "model_module": "@jupyter-widgets/output",
          "model_name": "OutputModel",
          "model_module_version": "1.0.0",
          "state": {
            "_dom_classes": [],
            "_model_module": "@jupyter-widgets/output",
            "_model_module_version": "1.0.0",
            "_model_name": "OutputModel",
            "_view_count": null,
            "_view_module": "@jupyter-widgets/output",
            "_view_module_version": "1.0.0",
            "_view_name": "OutputView",
            "layout": "IPY_MODEL_d1b45b34ecde484aa82d04887829814c",
            "msg_id": "",
            "outputs": [
              {
                "output_type": "display_data",
                "data": {
                  "text/plain": "<Figure size 500x500 with 1 Axes>",
                  "image/png": "iVBORw0KGgoAAAANSUhEUgAAAZQAAAGrCAYAAADn6WHYAAAAOnRFWHRTb2Z0d2FyZQBNYXRwbG90bGliIHZlcnNpb24zLjEwLjAsIGh0dHBzOi8vbWF0cGxvdGxpYi5vcmcvlHJYcgAAAAlwSFlzAAAPYQAAD2EBqD+naQAAGnNJREFUeJzt3XlwVeX9x/FP2BJyAwlgaMJiAonDaqFE2SGBgBBUiiwplSUECcM2LK3FbSpgFQoopZVdWqApWrZqXaACGipqBxdWWQpUCMMmW1gTQkme3x/8codLFhL4Apq+XzOMk+eee85zTwLve5Yb/ZxzTgAA3KYy93oCAIDSgaAAAEwQFACACYICADBBUAAAJggKAMAEQQEAmCAoAAATBAUAYIKg4JZs2LBBfn5+2rBhw22va/HixfLz89PBgwdve133QlxcnBo3bmy6zsjISA0aNMj7teX+vpvi4uIUFxfnM/bdd9+pd+/eqlatmvz8/DRz5sx7MjfYIyil3OTJk/XOO+/c62n84B09elQTJ07U1q1b7/VU7oi5c+eqT58+uv/+++Xn5+cTs5vZtWuXJk6cWOw3BOPGjdOHH36o5557TqmpqerateutTfoWxcXFyc/Pr8g/N0bwVn3++edq27atAgMDFRYWptGjR+vixYsm6/4+KnevJ4A7a/Lkyerdu7d69Ohxr6fyg3b06FFNmjRJkZGRatq06V3ffvv27ZWVlaUKFSrckfVPnTpVFy5cUPPmzXXs2LESPXfXrl2aNGmS4uLiFBkZ6fPY2rVr8y3/8ccf66c//amefvrp25nyLXvhhRc0ZMiQAh9btmyZ3n//fbVs2fK2t7N161bFx8erQYMGmjFjhg4fPqxXX31V+/bt05o1a257/d9HBAX4AShTpowCAgLu2Pr/+c9/eo9OgoKCzNZbUABPnDihkJAQs22UVOfOnQsc37Fjh1JSUhQTE6OXXnrptrfz/PPPq0qVKtqwYYMqV64s6dqpzJSUFK1du1aPPPLIbW/j+6ZUnvK6cOGCxo4dq8jISPn7+6t69erq3LmzNm/e7LPcpk2b1LVrVwUHByswMFCxsbH67LPP8q1vw4YNeuihhxQQEKCoqCjNnz9fEydOlJ+fn89yfn5+GjVqlFasWKGGDRuqYsWKatWqlXbs2CFJmj9/vqKjoxUQEKC4uLgCTxEUZ055296/f78GDRqkkJAQBQcHKzk5WZmZmT7zuXTpkpYsWeI9lL/+VMaRI0c0ePBg/ehHP5K/v78aNWqkP/3pT/nmdPjwYfXo0UMej0fVq1fXuHHjlJ2dfdPvQ0F27typjh07qmLFiqpVq5Zefvll5ebmFrjsmjVr1K5dO3k8HlWqVEmPPvqodu7c6bPMoEGDFBQUpEOHDumxxx5TUFCQatasqdmzZ0u69o9Ex44d5fF4FBERoTfffDPfdr799lv16dNHVatWVWBgoFq2bKkPPvjA+/iGDRv08MMPS5KSk5O9+3Lx4sU+69m1a5c6dOigwMBA1axZU9OmTcu3rezsbE2YMEHR0dHy9/dX7dq1NX78+Jvuz4KuoWzcuNF7mipvXePGjVNWVlaR6ypIREREvp/n4li8eLH69OkjSerQoYN33+TN8/prKHnXypxzmj17tnfZ74NLly7pZz/7mcqXL69ly5bd9pHg+fPntW7dOvXv398bE0kaOHCggoKCtHz58tud8vdSqTxCGTZsmFauXKlRo0apYcOGOn36tD799FPt3r1bzZo1k3TtsDshIUExMTGaMGGCypQpo0WLFqljx47auHGjmjdvLknasmWLunbtqvDwcE2aNEk5OTl66aWXFBoaWuC2N27cqHfffVcjR46UJE2ZMkWPPfaYxo8frzlz5mjEiBHKyMjQtGnTNHjwYH388cfe5xZ3TnkSExNVp04dTZkyRZs3b9bChQtVvXp1TZ06VZKUmpqqIUOGqHnz5ho6dKgkKSoqStK1C6MtW7b0RjA0NFRr1qzRU089pfPnz2vs2LGSpKysLMXHx+vQoUMaPXq0atSoodTUVJ95F9fx48fVoUMHXb16Vc8++6w8Ho8WLFigihUr5ls2NTVVSUlJ6tKli6ZOnarMzEzNnTtXbdu21ZYtW3xOreTk5CghIUHt27fXtGnTtHTpUo0aNUoej0cvvPCC+vXrp549e2revHkaOHCgWrVqpTp16nj3Q+vWrZWZmanRo0erWrVqWrJkibp3766VK1fqiSeeUIMGDfTSSy/pxRdf1NChQ9WuXTtJUuvWrb1zyMjIUNeuXdWzZ08lJiZq5cqVeuaZZ/Tggw8qISFBkpSbm6vu3bvr008/1dChQ9WgQQPt2LFDv/vd77R3794SX+tasWKFMjMzNXz4cFWrVk1ffPGFXn/9dR0+fFgrVqwo4Xfn1rRv316jR4/WH/7wBz3//PNq0KCBJHn/e+OyqampGjBggDp37qyBAwfelTkWx6hRo7R7924tXbrU+3ckz8WLF3X58uWbrqN8+fIKDg6WdO2NzNWrV/XQQw/5LFOhQgU1bdpUW7ZssZv894krhYKDg93IkSMLfTw3N9c98MADrkuXLi43N9c7npmZ6erUqeM6d+7sHXv88cddYGCgO3LkiHds3759rly5cu7G3SfJ+fv7uwMHDnjH5s+f7yS5sLAwd/78ee/4c8895yR5ly3JnCZMmOAkucGDB/ts/4knnnDVqlXzGfN4PC4pKSnfPnjqqadceHi4O3XqlM943759XXBwsMvMzHTOOTdz5kwnyS1fvty7zKVLl1x0dLST5NLS0vKtuzBjx451ktymTZu8YydOnHDBwcE+++LChQsuJCTEpaSk+Dz/+PHjLjg42Gc8KSnJSXKTJ0/2jmVkZLiKFSs6Pz8/99e//tU7vmfPHifJTZgwId+cNm7c6B27cOGCq1OnjouMjHQ5OTnOOee+/PJLJ8ktWrQo3+uKjY11ktyf//xn71h2drYLCwtzvXr18o6lpqa6MmXK+GzLOefmzZvnJLnPPvvMOxYREeHzfUtLS8u3v/O+R9ebMmWK8/Pzc+np6fkeK67CfmYKs2LFikJ/FmJjY11sbKzPmKQi/37ebampqU6SS05OLvDxvJ+xm/25/nXm7ZNPPvkk3/r69OnjwsLC7tTLuadK5SmvkJAQbdq0SUePHi3w8a1bt2rfvn168skndfr0aZ06dUqnTp3SpUuXFB8fr08++US5ubnKycnR+vXr1aNHD9WoUcP7/OjoaO+7zhvFx8f7vHtu0aKFJKlXr16qVKlSvvFvv/22RHO63rBhw3y+bteunU6fPq3z588XuX+cc1q1apUef/xxOee82zp16pS6dOmic+fOeU8Prl69WuHh4erdu7f3+YGBgd4jnpJYvXq1WrZs6XOkFRoaqn79+vkst27dOp09e1Y///nPfeZWtmxZtWjRQmlpafnWff1F1pCQENWrV08ej0eJiYne8Xr16ikkJMS7z/Pm1Lx5c7Vt29Y7FhQUpKFDh+rgwYPatWtXsV5bUFCQ+vfv7/26QoUKat68uc+2VqxYoQYNGqh+/fo+r6tjx46SVODrKsr1R3aXLl3SqVOn1Lp1aznnSu87YGN79+7V8OHDVb9+fb3++usFLjN+/HitW7fupn9ee+0173PyTjv6+/vnW19AQMAtnZb8ISiVp7ymTZumpKQk1a5dWzExMerWrZsGDhyounXrSpL27dsnSUpKSip0HefOndPly5eVlZWl6OjofI8XNCZJ999/v8/XeYfAtWvXLnA8IyOjRHOqUqVKodvKeywjI8PnvO2NTp48qbNnz2rBggVasGBBgcucOHFCkpSenq7o6Oh857rr1atX6PoLk56e7g1pUevK2xd5/9De6MbXFhAQkO8UZHBwsGrVqpVv3sHBwd59XtSc8k7ZpKenF+szJgVtq0qVKtq+fbv363379mn37t2Fni7N2+fFdejQIb344ot69913fV6TdO1n5Yfu5MmTysnJuaXnhoaGqmzZskUuk52drcTERF29elXLli2Tx+MpcLmGDRuqYcOGJdp+XuwLujZ2+fLlAk/zlgalMiiJiYlq166d3n77ba1du1bTp0/X1KlT9be//U0JCQned/rTp08v9BbQoKCgYp03vVFhP8SFjbv//z8wF3dOJVlnYfK21b9//0ID9uMf/7jIddxJefNLTU1VWFhYvsfLlfP9sb3VfW6pONvKzc3Vgw8+qBkzZhS47I1vOoqSk5Ojzp0768yZM3rmmWdUv359eTweHTlyRIMGDSr0Rocfkocffljp6em39NwDBw7ku4X5Rr/4xS+0bds2zZ49u8if93PnzhXriKJChQqqWrWqJCk8PFySCrwF+9ixYz5nPEqTUhkU6do3dMSIERoxYoROnDihZs2a6ZVXXlFCQoL3olvlypXVqVOnQtdRvXp1BQQEaP/+/fkeK2jsdhR3TiVV0F00oaGhqlSpknJycm66rYiICH3zzTdyzvms69///neJ5xIREeE9+rjejevK2xfVq1c33ReFzamg17Jnzx7v41LB+7GkoqKitG3bNsXHx9/2+nbs2KG9e/dqyZIlPhe3161bd7vTLLE7dafW0qVLb/nUUEFvRK63atUqzZkzRz179tSIESOKXHbMmDFasmTJTbcZGxvrvbutcePGKleunL766iuf065XrlzR1q1bfcZKk1IXlJycHF28eNF7Skm69g9TjRo1vIefMTExioqK0quvvqonn3wy3zv/kydPeg+ZO3XqpHfeeUdHjx71vqvYv3+/+QeTijunkvJ4PDp79qzPWNmyZdWrVy+9+eab+uabb/Kd0rl+W926ddPatWu1cuVK7+2hmZmZhZ4qK0q3bt00c+ZMffHFF97rKCdPntTSpUt9luvSpYsqV66syZMnq0OHDipfvnyh87tdeXP617/+pVatWkm6dj1iwYIFioyM9J7qyDsdcuO+LInExEStXr1ab7zxRr5rUFlZWcrNzS30tMuN8o6Irj8Ccs7p97///S3PrzjOnTunY8eOKTw83Pt3zGLfFKRNmzam68tz8OBBDRkyRBEREVq4cOFNlx8/frzP9bHCXH86Ojg4WJ06ddJf/vIX/frXv/ZeP01NTdXFixe9f5dKm1IXlAsXLqhWrVrq3bu3mjRpoqCgIK1fv15ffvml96JZmTJltHDhQiUkJKhRo0ZKTk5WzZo1deTIEaWlpaly5cp67733JF37zMfatWvVpk0bDR8+XDk5OZo1a5YaN25s+ms4SjKnkoiJidH69es1Y8YM1ahRQ3Xq1FGLFi3029/+VmlpaWrRooVSUlLUsGFDnTlzRps3b9b69et15swZSVJKSopmzZqlgQMH6uuvv1Z4eLhSU1MVGBhY4rmMHz/e+6s2xowZ471tOCIiwudaQ+XKlTV37lwNGDBAzZo1U9++fRUaGqpDhw7pgw8+UJs2bTRr1qwSb78gzz77rN566y0lJCRo9OjRqlq1qpYsWaIDBw5o1apVKlPm2n0rUVFRCgkJ0bx581SpUiV5PB61aNHCe/txcQwYMEDLly/XsGHDlJaWpjZt2ignJ0d79uzR8uXL9eGHH+a7zbQw9evXV1RUlJ5++mkdOXJElStX1qpVq/JdSymu9957T9u2bZMk/fe//9X27dv18ssvS5K6d+/uPSX09ttvKzk5WYsWLfJ+pqlp06YqW7aspk6dqnPnzsnf318dO3ZU9erVb2kud1rfvn119uxZ9evXz+fzRtcLCgry/naJW7mGIkmvvPKKWrdurdjYWA0dOlSHDx/Wa6+9pkceeeSu/7qZu+Ze3V52p2RnZ7tf/epXrkmTJq5SpUrO4/G4Jk2auDlz5uRbdsuWLa5nz56uWrVqzt/f30VERLjExET30Ucf+Sz30UcfuZ/85CeuQoUKLioqyi1cuND98pe/dAEBAT7LqYDbIQ8cOOAkuenTp/uM590GumLFihLPKe+24ZMnT/o8d9GiRT633zp37VbZ9u3bu4oVKzpJPreDfvfdd27kyJGudu3arnz58i4sLMzFx8e7BQsW+Kw3PT3dde/e3QUGBrr77rvPjRkzxv3jH/8o8W3Dzjm3fft2Fxsb6wICAlzNmjXdb37zG/fHP/4x37zz9lGXLl1ccHCwCwgIcFFRUW7QoEHuq6++8i6TlJTkPB5Pvu3Exsa6Ro0a5RuPiIhwjz76qM/Yf/7zH9e7d28XEhLiAgICXPPmzd3777+f77l///vfXcOGDb23jOfdQlzYtpKSklxERITP2JUrV9zUqVNdo0aNnL+/v6tSpYqLiYlxkyZNcufOnfOZ581uG961a5fr1KmTCwoKcvfdd59LSUlx27ZtK/T25qIUdWvs9evK+xm7cf1vvPGGq1u3ritbtqzPPL+Ptw0X9jqv/3Pj9+1Wbdy40bVu3doFBAS40NBQN3LkSJ+PD5Q2fs7dgSuU/wN69OihnTt3FnhNAAD+F5XKz6FYu/HC4L59+7R69Wqz30gKAKUBRyjFEB4erkGDBqlu3bpKT0/X3LlzlZ2drS1btuiBBx6419O757Kysm76uYeqVavesd+Ui4JduXLFey2sMMHBwaX2MxG4+0rdRfk7oWvXrnrrrbd0/Phx+fv7q1WrVpo8eTIx+X/Lli1TcnJykcukpaVxRHeXff755+rQoUORy1x/cR24XRyh4LYdO3Ys328BvlFMTIzPbZW48zIyMvT1118XuUyjRo28H8IDbhdBAQCY4KI8AMAEQQEAmCj2Rfnvy/9ZDQBw9xXn6ghHKAAAEwQFAGCCoAAATBAUAIAJggIAMEFQAAAmCAoAwARBAQCYICgAABMEBQBggqAAAEwQFACACYICADBBUAAAJggKAMAEQQEAmCAoAAATBAUAYIKgAABMEBQAgAmCAgAwQVAAACYICgDABEEBAJggKAAAEwQFAGCCoAAATBAUAIAJggIAMEFQAAAmCAoAwARBAQCYICgAABMEBQBggqAAAEwQFACACYICADBBUAAAJggKAMAEQQEAmCAoAAATBAUAYIKgAABMEBQAgAmCAgAwQVAAACYICgDABEEBAJggKAAAEwQFAGCCoAAATBAUAIAJggIAMEFQAAAmCAoAwARBAQCYICgAABMEBQBggqAAAEwQFACACYICADBBUAAAJggKAMAEQQEAmCAoAAATBAUAYIKgAABMEBQAgAmCAgAwQVAAACYICgDABEEBAJggKAAAEwQFAGCCoAAATBAUAIAJggIAMEFQAAAmCAoAwARBAQCYICgAABMEBQBggqAAAEwQFACACYICADBBUAAAJggKAMAEQQEAmCAoAAATBAUAYIKgAABMEBQAgAmCAgAwQVAAACYICgDABEEBAJggKAAAEwQFAGCCoAAATBAUAIAJggIAMEFQAAAmCAoAwARBAQCYICgAABMEBQBggqAAAEwQFACACYICADBBUAAAJggKAMAEQQEAmCAoAAATBAUAYIKgAABMEBQAgAmCAgAwQVAAACYICgDABEEBAJggKAAAEwQFAGCCoAAATBAUAIAJggIAMEFQAAAmCAoAwARBAQCYICgAABMEBQBggqAAAEwQFACACYICADBBUAAAJggKAMAEQQEAmCAoAAATBAUAYIKgAABMEBQAgAmCAgAwQVAAACYICgDABEEBAJggKAAAEwQFAGCCoAAATBAUAIAJggIAMEFQAAAmCAoAwARBAQCYICgAABMEBQBggqAAAEwQFACACYICADBBUAAAJggKAMAEQQEAmCAoAAATBAUAYIKgAABMEBQAgAmCAgAwQVAAACYICgDABEEBAJggKAAAEwQFAGCCoAAATBAUAIAJggIAMEFQAAAmCAoAwARBAQCYICgAABMEBQBggqAAAEwQFACACYICADBBUAAAJggKAMAEQQEAmCAoAAATBAUAYIKgAABMEBQAgAmCAgAwQVAAACYICgDABEEBAJggKAAAEwQFAGCCoAAATBAUAIAJggIAMEFQAAAmCAoAwARBAQCYICgAABMEBQBggqAAAEwQFACACYICADBBUAAAJggKAMAEQQEAmCAoAAATBAUAYIKgAABMEBQAgAmCAgAwQVAAACYICgDABEEBAJggKAAAEwQFAGCCoAAATBAUAIAJggIAMEFQAAAmCAoAwARBAQCYICgAABMEBQBggqAAAEwQFACACYICADBBUAAAJggKAMAEQQEAmCAoAAATBAUAYIKgAABMEBQAgAmCAgAwQVAAACYICgDABEEBAJggKAAAEwQFAGCCoAAATBAUAIAJggIAMEFQAAAmCAoAwARBAQCYICgAABMEBQBggqAAAEwQFACACYICADBBUAAAJggKAMAEQQEAmCAoAAATBAUAYIKgAABMEBQAgAmCAgAwQVAAACYICgDABEEBAJggKAAAEwQFAGCCoAAATBAUAIAJggIAMEFQAAAmCAoAwARBAQCYICgAABMEBQBggqAAAEwQFACACYICADBBUAAAJggKAMAEQQEAmCAoAAATBAUAYIKgAABMEBQAgAmCAgAwQVAAACYICgDABEEBAJggKAAAEwQFAGCCoAAATBAUAIAJggIAMEFQAAAmCAoAwARBAQCYICgAABMEBQBggqAAAEwQFACACYICADBBUAAAJggKAMAEQQEAmCAoAAATBAUAYIKgAABMEBQAgAmCAgAwQVAAACYICgDABEEBAJggKAAAEwQFAGCCoAAATBAUAIAJggIAMEFQAAAmCAoAwARBAQCYICgAABMEBQBggqAAAEwQFACACYICADBBUAAAJggKAMAEQQEAmCAoAAATBAUAYIKgAABMEBQAgAmCAgAwQVAAACYICgDABEEBAJggKAAAEwQFAGCCoAAATBAUAIAJggIAMEFQAAAmCAoAwARBAQCYICgAABMEBQBggqAAAEwQFACACYICADBBUAAAJggKAMAEQQEAmCAoAAATBAUAYIKgAABMEBQAgAmCAgAwQVAAACYICgDABEEBAJggKAAAEwQFAGCCoAAATBAUAIAJggIAMEFQAAAmCAoAwARBAQCYICgAABMEBQBggqAAAEwQFACACYICADBBUAAAJggKAMAEQQEAmCAoAAATBAUAYIKgAABMEBQAgAmCAgAwQVAAACYICgDABEEBAJgoV9wFnXN3ch4AgB84jlAAACYICgDABEEBAJggKAAAEwQFAGCCoAAATBAUAIAJggIAMEFQAAAm/g/ObhseRS0wJAAAAABJRU5ErkJggg==\n"
                },
                "metadata": {}
              }
            ]
          }
        },
        "d1b45b34ecde484aa82d04887829814c": {
          "model_module": "@jupyter-widgets/base",
          "model_name": "LayoutModel",
          "model_module_version": "1.2.0",
          "state": {
            "_model_module": "@jupyter-widgets/base",
            "_model_module_version": "1.2.0",
            "_model_name": "LayoutModel",
            "_view_count": null,
            "_view_module": "@jupyter-widgets/base",
            "_view_module_version": "1.2.0",
            "_view_name": "LayoutView",
            "align_content": null,
            "align_items": null,
            "align_self": null,
            "border": null,
            "bottom": null,
            "display": null,
            "flex": null,
            "flex_flow": null,
            "grid_area": null,
            "grid_auto_columns": null,
            "grid_auto_flow": null,
            "grid_auto_rows": null,
            "grid_column": null,
            "grid_gap": null,
            "grid_row": null,
            "grid_template_areas": null,
            "grid_template_columns": null,
            "grid_template_rows": null,
            "height": null,
            "justify_content": null,
            "justify_items": null,
            "left": null,
            "margin": null,
            "max_height": null,
            "max_width": null,
            "min_height": null,
            "min_width": null,
            "object_fit": null,
            "object_position": null,
            "order": null,
            "overflow": null,
            "overflow_x": null,
            "overflow_y": null,
            "padding": null,
            "right": null,
            "top": null,
            "visibility": null,
            "width": null
          }
        }
      }
    }
  },
  "cells": [
    {
      "cell_type": "code",
      "source": [
        "###UNCOMMENT AND MOUNT DRIVE FOR MULTISESSION USE AND SAVING###\n",
        "\n",
        "# from google.colab import drive\n",
        "# drive.mount('/content/drive')\n"
      ],
      "metadata": {
        "id": "iV09C-4DWd22"
      },
      "execution_count": null,
      "outputs": []
    },
    {
      "cell_type": "code",
      "source": [
        "# 1. Clone if needed + bootstrap\n",
        "import sys\n",
        "from pathlib import Path\n",
        "\n",
        "\n",
        "REPO_URL = \"https://github.com/somaSystems/HyperThelia.git\"\n",
        "CLONE_PARENT_DIR = Path(\"/content\")\n",
        "CLONE_DIR = CLONE_PARENT_DIR / \"HyperThelia\"\n",
        "BASE_PROJECT_DIR = CLONE_DIR / \"Hyperthelia_project\"\n",
        "LIB_DIR = BASE_PROJECT_DIR / \"notebooks\" / \"lib\"\n",
        "\n",
        "if not CLONE_DIR.exists():\n",
        "    print(\"Cloning HyperThelia repo...\")\n",
        "    !git clone {REPO_URL} {CLONE_DIR}\n",
        "else:\n",
        "    print(\"HyperThelia repo already exists.\")\n",
        "\n",
        "if str(LIB_DIR) not in sys.path:\n",
        "    sys.path.insert(0, str(LIB_DIR))\n",
        "\n",
        "# 2. Now safe to import functions\n",
        "from setup_functions import clone_hyperthelia_repo, setup_project_io\n",
        "\n",
        "# 3. Use functions\n",
        "CLONE_DIR, BASE_PROJECT_DIR = clone_hyperthelia_repo(CLONE_PARENT_DIR)\n"
      ],
      "metadata": {
        "id": "QDRLS9Km-CJt",
        "outputId": "bc09962c-a564-4562-d8db-23110a5f69a8",
        "colab": {
          "base_uri": "https://localhost:8080/"
        }
      },
      "execution_count": null,
      "outputs": [
        {
          "output_type": "stream",
          "name": "stdout",
          "text": [
            "HyperThelia repo already exists.\n",
            "Repo already exists at: /content/HyperThelia\n",
            "BASE_PROJECT_DIR is set to: /content/HyperThelia/Hyperthelia_project\n"
          ]
        }
      ]
    },
    {
      "cell_type": "code",
      "source": [
        "from pathlib import Path\n",
        "\n",
        "# === BASE PROJECT SETUP ===\n",
        "BASE_PROJECT_DIR = Path(\"/content/HyperThelia/Hyperthelia_project\")\n",
        "RAW_DIR = Path(\"/content/HyperThelia/Hyperthelia_project/data_demo\")\n",
        "\n"
      ],
      "metadata": {
        "id": "5rWccB9jpg_l"
      },
      "execution_count": null,
      "outputs": []
    },
    {
      "cell_type": "code",
      "source": [
        "# Install latest Cellpose from GitHub (includes SAM support)\n",
        "!pip install git+https://github.com/mouseland/cellpose.git"
      ],
      "metadata": {
        "id": "FMBIVLeiTbSg",
        "outputId": "82171dde-c15a-4b55-e6b2-fa9d8c9588cf",
        "colab": {
          "base_uri": "https://localhost:8080/"
        }
      },
      "execution_count": null,
      "outputs": [
        {
          "output_type": "stream",
          "name": "stdout",
          "text": [
            "Collecting git+https://github.com/mouseland/cellpose.git\n",
            "  Cloning https://github.com/mouseland/cellpose.git to /tmp/pip-req-build-9ovcgc4m\n",
            "  Running command git clone --filter=blob:none --quiet https://github.com/mouseland/cellpose.git /tmp/pip-req-build-9ovcgc4m\n",
            "  Resolved https://github.com/mouseland/cellpose.git to commit df6b944673c3ab6d46c2cb780bcde040970dbebc\n",
            "  Preparing metadata (setup.py) ... \u001b[?25l\u001b[?25hdone\n",
            "Requirement already satisfied: numpy>=1.20.0 in /usr/local/lib/python3.11/dist-packages (from cellpose==4.0.7.dev7+gdf6b944) (2.0.2)\n",
            "Requirement already satisfied: scipy in /usr/local/lib/python3.11/dist-packages (from cellpose==4.0.7.dev7+gdf6b944) (1.16.0)\n",
            "Requirement already satisfied: natsort in /usr/local/lib/python3.11/dist-packages (from cellpose==4.0.7.dev7+gdf6b944) (8.4.0)\n",
            "Requirement already satisfied: tifffile in /usr/local/lib/python3.11/dist-packages (from cellpose==4.0.7.dev7+gdf6b944) (2025.6.11)\n",
            "Requirement already satisfied: tqdm in /usr/local/lib/python3.11/dist-packages (from cellpose==4.0.7.dev7+gdf6b944) (4.67.1)\n",
            "Requirement already satisfied: torchvision in /usr/local/lib/python3.11/dist-packages (from cellpose==4.0.7.dev7+gdf6b944) (0.21.0+cu124)\n",
            "Requirement already satisfied: opencv-python-headless in /usr/local/lib/python3.11/dist-packages (from cellpose==4.0.7.dev7+gdf6b944) (4.12.0.88)\n",
            "Collecting fastremap (from cellpose==4.0.7.dev7+gdf6b944)\n",
            "  Downloading fastremap-1.17.2-cp311-cp311-manylinux_2_17_x86_64.manylinux2014_x86_64.whl.metadata (10 kB)\n",
            "Collecting imagecodecs (from cellpose==4.0.7.dev7+gdf6b944)\n",
            "  Downloading imagecodecs-2025.3.30-cp311-cp311-manylinux_2_17_x86_64.manylinux2014_x86_64.whl.metadata (20 kB)\n",
            "Collecting roifile (from cellpose==4.0.7.dev7+gdf6b944)\n",
            "  Downloading roifile-2025.5.10-py3-none-any.whl.metadata (5.9 kB)\n",
            "Collecting fill-voids (from cellpose==4.0.7.dev7+gdf6b944)\n",
            "  Downloading fill_voids-2.1.0-cp311-cp311-manylinux_2_17_x86_64.manylinux2014_x86_64.whl.metadata (6.0 kB)\n",
            "Collecting segment_anything (from cellpose==4.0.7.dev7+gdf6b944)\n",
            "  Downloading segment_anything-1.0-py3-none-any.whl.metadata (487 bytes)\n",
            "Requirement already satisfied: torch==2.6.0 in /usr/local/lib/python3.11/dist-packages (from torchvision->cellpose==4.0.7.dev7+gdf6b944) (2.6.0+cu124)\n",
            "Requirement already satisfied: pillow!=8.3.*,>=5.3.0 in /usr/local/lib/python3.11/dist-packages (from torchvision->cellpose==4.0.7.dev7+gdf6b944) (11.3.0)\n",
            "Requirement already satisfied: filelock in /usr/local/lib/python3.11/dist-packages (from torch==2.6.0->torchvision->cellpose==4.0.7.dev7+gdf6b944) (3.18.0)\n",
            "Requirement already satisfied: typing-extensions>=4.10.0 in /usr/local/lib/python3.11/dist-packages (from torch==2.6.0->torchvision->cellpose==4.0.7.dev7+gdf6b944) (4.14.1)\n",
            "Requirement already satisfied: networkx in /usr/local/lib/python3.11/dist-packages (from torch==2.6.0->torchvision->cellpose==4.0.7.dev7+gdf6b944) (3.5)\n",
            "Requirement already satisfied: jinja2 in /usr/local/lib/python3.11/dist-packages (from torch==2.6.0->torchvision->cellpose==4.0.7.dev7+gdf6b944) (3.1.6)\n",
            "Requirement already satisfied: fsspec in /usr/local/lib/python3.11/dist-packages (from torch==2.6.0->torchvision->cellpose==4.0.7.dev7+gdf6b944) (2025.3.0)\n",
            "Collecting nvidia-cuda-nvrtc-cu12==12.4.127 (from torch==2.6.0->torchvision->cellpose==4.0.7.dev7+gdf6b944)\n",
            "  Downloading nvidia_cuda_nvrtc_cu12-12.4.127-py3-none-manylinux2014_x86_64.whl.metadata (1.5 kB)\n",
            "Collecting nvidia-cuda-runtime-cu12==12.4.127 (from torch==2.6.0->torchvision->cellpose==4.0.7.dev7+gdf6b944)\n",
            "  Downloading nvidia_cuda_runtime_cu12-12.4.127-py3-none-manylinux2014_x86_64.whl.metadata (1.5 kB)\n",
            "Collecting nvidia-cuda-cupti-cu12==12.4.127 (from torch==2.6.0->torchvision->cellpose==4.0.7.dev7+gdf6b944)\n",
            "  Downloading nvidia_cuda_cupti_cu12-12.4.127-py3-none-manylinux2014_x86_64.whl.metadata (1.6 kB)\n",
            "Collecting nvidia-cudnn-cu12==9.1.0.70 (from torch==2.6.0->torchvision->cellpose==4.0.7.dev7+gdf6b944)\n",
            "  Downloading nvidia_cudnn_cu12-9.1.0.70-py3-none-manylinux2014_x86_64.whl.metadata (1.6 kB)\n",
            "Collecting nvidia-cublas-cu12==12.4.5.8 (from torch==2.6.0->torchvision->cellpose==4.0.7.dev7+gdf6b944)\n",
            "  Downloading nvidia_cublas_cu12-12.4.5.8-py3-none-manylinux2014_x86_64.whl.metadata (1.5 kB)\n",
            "Collecting nvidia-cufft-cu12==11.2.1.3 (from torch==2.6.0->torchvision->cellpose==4.0.7.dev7+gdf6b944)\n",
            "  Downloading nvidia_cufft_cu12-11.2.1.3-py3-none-manylinux2014_x86_64.whl.metadata (1.5 kB)\n",
            "Collecting nvidia-curand-cu12==10.3.5.147 (from torch==2.6.0->torchvision->cellpose==4.0.7.dev7+gdf6b944)\n",
            "  Downloading nvidia_curand_cu12-10.3.5.147-py3-none-manylinux2014_x86_64.whl.metadata (1.5 kB)\n",
            "Collecting nvidia-cusolver-cu12==11.6.1.9 (from torch==2.6.0->torchvision->cellpose==4.0.7.dev7+gdf6b944)\n",
            "  Downloading nvidia_cusolver_cu12-11.6.1.9-py3-none-manylinux2014_x86_64.whl.metadata (1.6 kB)\n",
            "Collecting nvidia-cusparse-cu12==12.3.1.170 (from torch==2.6.0->torchvision->cellpose==4.0.7.dev7+gdf6b944)\n",
            "  Downloading nvidia_cusparse_cu12-12.3.1.170-py3-none-manylinux2014_x86_64.whl.metadata (1.6 kB)\n",
            "Requirement already satisfied: nvidia-cusparselt-cu12==0.6.2 in /usr/local/lib/python3.11/dist-packages (from torch==2.6.0->torchvision->cellpose==4.0.7.dev7+gdf6b944) (0.6.2)\n",
            "Requirement already satisfied: nvidia-nccl-cu12==2.21.5 in /usr/local/lib/python3.11/dist-packages (from torch==2.6.0->torchvision->cellpose==4.0.7.dev7+gdf6b944) (2.21.5)\n",
            "Requirement already satisfied: nvidia-nvtx-cu12==12.4.127 in /usr/local/lib/python3.11/dist-packages (from torch==2.6.0->torchvision->cellpose==4.0.7.dev7+gdf6b944) (12.4.127)\n",
            "Collecting nvidia-nvjitlink-cu12==12.4.127 (from torch==2.6.0->torchvision->cellpose==4.0.7.dev7+gdf6b944)\n",
            "  Downloading nvidia_nvjitlink_cu12-12.4.127-py3-none-manylinux2014_x86_64.whl.metadata (1.5 kB)\n",
            "Requirement already satisfied: triton==3.2.0 in /usr/local/lib/python3.11/dist-packages (from torch==2.6.0->torchvision->cellpose==4.0.7.dev7+gdf6b944) (3.2.0)\n",
            "Requirement already satisfied: sympy==1.13.1 in /usr/local/lib/python3.11/dist-packages (from torch==2.6.0->torchvision->cellpose==4.0.7.dev7+gdf6b944) (1.13.1)\n",
            "Requirement already satisfied: mpmath<1.4,>=1.1.0 in /usr/local/lib/python3.11/dist-packages (from sympy==1.13.1->torch==2.6.0->torchvision->cellpose==4.0.7.dev7+gdf6b944) (1.3.0)\n",
            "Requirement already satisfied: MarkupSafe>=2.0 in /usr/local/lib/python3.11/dist-packages (from jinja2->torch==2.6.0->torchvision->cellpose==4.0.7.dev7+gdf6b944) (3.0.2)\n",
            "Downloading fastremap-1.17.2-cp311-cp311-manylinux_2_17_x86_64.manylinux2014_x86_64.whl (7.3 MB)\n",
            "\u001b[2K   \u001b[90m━━━━━━━━━━━━━━━━━━━━━━━━━━━━━━━━━━━━━━━━\u001b[0m \u001b[32m7.3/7.3 MB\u001b[0m \u001b[31m66.1 MB/s\u001b[0m eta \u001b[36m0:00:00\u001b[0m\n",
            "\u001b[?25hDownloading fill_voids-2.1.0-cp311-cp311-manylinux_2_17_x86_64.manylinux2014_x86_64.whl (1.5 MB)\n",
            "\u001b[2K   \u001b[90m━━━━━━━━━━━━━━━━━━━━━━━━━━━━━━━━━━━━━━━━\u001b[0m \u001b[32m1.5/1.5 MB\u001b[0m \u001b[31m64.5 MB/s\u001b[0m eta \u001b[36m0:00:00\u001b[0m\n",
            "\u001b[?25hDownloading imagecodecs-2025.3.30-cp311-cp311-manylinux_2_17_x86_64.manylinux2014_x86_64.whl (45.6 MB)\n",
            "\u001b[2K   \u001b[90m━━━━━━━━━━━━━━━━━━━━━━━━━━━━━━━━━━━━━━━━\u001b[0m \u001b[32m45.6/45.6 MB\u001b[0m \u001b[31m50.0 MB/s\u001b[0m eta \u001b[36m0:00:00\u001b[0m\n",
            "\u001b[?25hDownloading roifile-2025.5.10-py3-none-any.whl (17 kB)\n",
            "Downloading segment_anything-1.0-py3-none-any.whl (36 kB)\n",
            "Downloading nvidia_cublas_cu12-12.4.5.8-py3-none-manylinux2014_x86_64.whl (363.4 MB)\n",
            "\u001b[2K   \u001b[90m━━━━━━━━━━━━━━━━━━━━━━━━━━━━━━━━━━━━━━━━\u001b[0m \u001b[32m363.4/363.4 MB\u001b[0m \u001b[31m2.3 MB/s\u001b[0m eta \u001b[36m0:00:00\u001b[0m\n",
            "\u001b[?25hDownloading nvidia_cuda_cupti_cu12-12.4.127-py3-none-manylinux2014_x86_64.whl (13.8 MB)\n",
            "\u001b[2K   \u001b[90m━━━━━━━━━━━━━━━━━━━━━━━━━━━━━━━━━━━━━━━━\u001b[0m \u001b[32m13.8/13.8 MB\u001b[0m \u001b[31m126.2 MB/s\u001b[0m eta \u001b[36m0:00:00\u001b[0m\n",
            "\u001b[?25hDownloading nvidia_cuda_nvrtc_cu12-12.4.127-py3-none-manylinux2014_x86_64.whl (24.6 MB)\n",
            "\u001b[2K   \u001b[90m━━━━━━━━━━━━━━━━━━━━━━━━━━━━━━━━━━━━━━━━\u001b[0m \u001b[32m24.6/24.6 MB\u001b[0m \u001b[31m95.1 MB/s\u001b[0m eta \u001b[36m0:00:00\u001b[0m\n",
            "\u001b[?25hDownloading nvidia_cuda_runtime_cu12-12.4.127-py3-none-manylinux2014_x86_64.whl (883 kB)\n",
            "\u001b[2K   \u001b[90m━━━━━━━━━━━━━━━━━━━━━━━━━━━━━━━━━━━━━━━━\u001b[0m \u001b[32m883.7/883.7 kB\u001b[0m \u001b[31m53.5 MB/s\u001b[0m eta \u001b[36m0:00:00\u001b[0m\n",
            "\u001b[?25hDownloading nvidia_cudnn_cu12-9.1.0.70-py3-none-manylinux2014_x86_64.whl (664.8 MB)\n",
            "\u001b[2K   \u001b[90m━━━━━━━━━━━━━━━━━━━━━━━━━━━━━━━━━━━━━━━━\u001b[0m \u001b[32m664.8/664.8 MB\u001b[0m \u001b[31m1.3 MB/s\u001b[0m eta \u001b[36m0:00:00\u001b[0m\n",
            "\u001b[?25hDownloading nvidia_cufft_cu12-11.2.1.3-py3-none-manylinux2014_x86_64.whl (211.5 MB)\n",
            "\u001b[2K   \u001b[90m━━━━━━━━━━━━━━━━━━━━━━━━━━━━━━━━━━━━━━━━\u001b[0m \u001b[32m211.5/211.5 MB\u001b[0m \u001b[31m9.9 MB/s\u001b[0m eta \u001b[36m0:00:00\u001b[0m\n",
            "\u001b[?25hDownloading nvidia_curand_cu12-10.3.5.147-py3-none-manylinux2014_x86_64.whl (56.3 MB)\n",
            "\u001b[2K   \u001b[90m━━━━━━━━━━━━━━━━━━━━━━━━━━━━━━━━━━━━━━━━\u001b[0m \u001b[32m56.3/56.3 MB\u001b[0m \u001b[31m39.5 MB/s\u001b[0m eta \u001b[36m0:00:00\u001b[0m\n",
            "\u001b[?25hDownloading nvidia_cusolver_cu12-11.6.1.9-py3-none-manylinux2014_x86_64.whl (127.9 MB)\n",
            "\u001b[2K   \u001b[90m━━━━━━━━━━━━━━━━━━━━━━━━━━━━━━━━━━━━━━━━\u001b[0m \u001b[32m127.9/127.9 MB\u001b[0m \u001b[31m17.5 MB/s\u001b[0m eta \u001b[36m0:00:00\u001b[0m\n",
            "\u001b[?25hDownloading nvidia_cusparse_cu12-12.3.1.170-py3-none-manylinux2014_x86_64.whl (207.5 MB)\n",
            "\u001b[2K   \u001b[90m━━━━━━━━━━━━━━━━━━━━━━━━━━━━━━━━━━━━━━━━\u001b[0m \u001b[32m207.5/207.5 MB\u001b[0m \u001b[31m2.7 MB/s\u001b[0m eta \u001b[36m0:00:00\u001b[0m\n",
            "\u001b[?25hDownloading nvidia_nvjitlink_cu12-12.4.127-py3-none-manylinux2014_x86_64.whl (21.1 MB)\n",
            "\u001b[2K   \u001b[90m━━━━━━━━━━━━━━━━━━━━━━━━━━━━━━━━━━━━━━━━\u001b[0m \u001b[32m21.1/21.1 MB\u001b[0m \u001b[31m108.2 MB/s\u001b[0m eta \u001b[36m0:00:00\u001b[0m\n",
            "\u001b[?25hBuilding wheels for collected packages: cellpose\n",
            "  Building wheel for cellpose (setup.py) ... \u001b[?25l\u001b[?25hdone\n",
            "  Created wheel for cellpose: filename=cellpose-4.0.7.dev7+gdf6b944-py3-none-any.whl size=212629 sha256=e130b44267b9b9f44ce033c1f5c2993b1ba406a1edf52cca8b95694bc4ee3743\n",
            "  Stored in directory: /tmp/pip-ephem-wheel-cache-zxyyv0u7/wheels/bf/5f/90/f29d9bde5a8250a4f327111efc1d1f7f2cdd6002282921c8de\n",
            "Successfully built cellpose\n",
            "Installing collected packages: segment_anything, roifile, nvidia-nvjitlink-cu12, nvidia-curand-cu12, nvidia-cufft-cu12, nvidia-cuda-runtime-cu12, nvidia-cuda-nvrtc-cu12, nvidia-cuda-cupti-cu12, nvidia-cublas-cu12, imagecodecs, fastremap, nvidia-cusparse-cu12, nvidia-cudnn-cu12, fill-voids, nvidia-cusolver-cu12, cellpose\n",
            "  Attempting uninstall: nvidia-nvjitlink-cu12\n",
            "    Found existing installation: nvidia-nvjitlink-cu12 12.5.82\n",
            "    Uninstalling nvidia-nvjitlink-cu12-12.5.82:\n",
            "      Successfully uninstalled nvidia-nvjitlink-cu12-12.5.82\n",
            "  Attempting uninstall: nvidia-curand-cu12\n",
            "    Found existing installation: nvidia-curand-cu12 10.3.6.82\n",
            "    Uninstalling nvidia-curand-cu12-10.3.6.82:\n",
            "      Successfully uninstalled nvidia-curand-cu12-10.3.6.82\n",
            "  Attempting uninstall: nvidia-cufft-cu12\n",
            "    Found existing installation: nvidia-cufft-cu12 11.2.3.61\n",
            "    Uninstalling nvidia-cufft-cu12-11.2.3.61:\n",
            "      Successfully uninstalled nvidia-cufft-cu12-11.2.3.61\n",
            "  Attempting uninstall: nvidia-cuda-runtime-cu12\n",
            "    Found existing installation: nvidia-cuda-runtime-cu12 12.5.82\n",
            "    Uninstalling nvidia-cuda-runtime-cu12-12.5.82:\n",
            "      Successfully uninstalled nvidia-cuda-runtime-cu12-12.5.82\n",
            "  Attempting uninstall: nvidia-cuda-nvrtc-cu12\n",
            "    Found existing installation: nvidia-cuda-nvrtc-cu12 12.5.82\n",
            "    Uninstalling nvidia-cuda-nvrtc-cu12-12.5.82:\n",
            "      Successfully uninstalled nvidia-cuda-nvrtc-cu12-12.5.82\n",
            "  Attempting uninstall: nvidia-cuda-cupti-cu12\n",
            "    Found existing installation: nvidia-cuda-cupti-cu12 12.5.82\n",
            "    Uninstalling nvidia-cuda-cupti-cu12-12.5.82:\n",
            "      Successfully uninstalled nvidia-cuda-cupti-cu12-12.5.82\n",
            "  Attempting uninstall: nvidia-cublas-cu12\n",
            "    Found existing installation: nvidia-cublas-cu12 12.5.3.2\n",
            "    Uninstalling nvidia-cublas-cu12-12.5.3.2:\n",
            "      Successfully uninstalled nvidia-cublas-cu12-12.5.3.2\n",
            "  Attempting uninstall: nvidia-cusparse-cu12\n",
            "    Found existing installation: nvidia-cusparse-cu12 12.5.1.3\n",
            "    Uninstalling nvidia-cusparse-cu12-12.5.1.3:\n",
            "      Successfully uninstalled nvidia-cusparse-cu12-12.5.1.3\n",
            "  Attempting uninstall: nvidia-cudnn-cu12\n",
            "    Found existing installation: nvidia-cudnn-cu12 9.3.0.75\n",
            "    Uninstalling nvidia-cudnn-cu12-9.3.0.75:\n",
            "      Successfully uninstalled nvidia-cudnn-cu12-9.3.0.75\n",
            "  Attempting uninstall: nvidia-cusolver-cu12\n",
            "    Found existing installation: nvidia-cusolver-cu12 11.6.3.83\n",
            "    Uninstalling nvidia-cusolver-cu12-11.6.3.83:\n",
            "      Successfully uninstalled nvidia-cusolver-cu12-11.6.3.83\n",
            "Successfully installed cellpose-4.0.7.dev7+gdf6b944 fastremap-1.17.2 fill-voids-2.1.0 imagecodecs-2025.3.30 nvidia-cublas-cu12-12.4.5.8 nvidia-cuda-cupti-cu12-12.4.127 nvidia-cuda-nvrtc-cu12-12.4.127 nvidia-cuda-runtime-cu12-12.4.127 nvidia-cudnn-cu12-9.1.0.70 nvidia-cufft-cu12-11.2.1.3 nvidia-curand-cu12-10.3.5.147 nvidia-cusolver-cu12-11.6.1.9 nvidia-cusparse-cu12-12.3.1.170 nvidia-nvjitlink-cu12-12.4.127 roifile-2025.5.10 segment_anything-1.0\n"
          ]
        }
      ]
    },
    {
      "cell_type": "code",
      "source": [
        "# # === SESSION SETUP IMPORTS AND FUNCTIONS ===\n",
        "import segmentation\n",
        "import importlib\n",
        "importlib.reload(segmentation)\n",
        "\n",
        "RAW_DIR, OUTPUTS_DIR = setup_project_io(BASE_PROJECT_DIR)\n",
        "\n",
        "# SETUP LOGGER, CHECK GPU, and CELLPOSE MODEL\n",
        "\n",
        "from segmentation import setup_cellpose_model\n",
        "model = setup_cellpose_model(gpu=True)\n"
      ],
      "metadata": {
        "id": "vhy__I2x68KA",
        "outputId": "01d7c8f5-268e-4cf5-da0a-b6bb1a24ebd3",
        "colab": {
          "base_uri": "https://localhost:8080/"
        }
      },
      "execution_count": null,
      "outputs": [
        {
          "output_type": "stream",
          "name": "stdout",
          "text": [
            "\n",
            "\n",
            "Welcome to CellposeSAM, cellpose v\n",
            "cellpose version: \t4.0.7.dev7+gdf6b944 \n",
            "platform:       \tlinux \n",
            "python version: \t3.11.13 \n",
            "torch version:  \t2.6.0+cu124! The neural network component of\n",
            "CPSAM is much larger than in previous versions and CPU excution is slow. \n",
            "We encourage users to use GPU/MPS if available. \n",
            "\n",
            "\n",
            "Project outputs will be saved to: /content/HyperThelia/Hyperthelia_project/outputs\n",
            "Looking for raw experiment folders in: /content/HyperThelia/Hyperthelia_project/data_demo\n",
            "creating new log file\n",
            "2025-07-25 20:44:40,580 [INFO] WRITING LOG OUTPUT TO /root/.cellpose/run.log\n",
            "2025-07-25 20:44:40,581 [INFO] \n",
            "cellpose version: \t4.0.7.dev7+gdf6b944 \n",
            "platform:       \tlinux \n",
            "python version: \t3.11.13 \n",
            "torch version:  \t2.6.0+cu124\n",
            "2025-07-25 20:44:40,819 [INFO] ** TORCH CUDA version installed and working. **\n",
            "✅ Cellpose model initialised (SAM backend)\n",
            "2025-07-25 20:44:40,820 [INFO] ** TORCH CUDA version installed and working. **\n",
            "2025-07-25 20:44:40,821 [INFO] >>>> using GPU (CUDA)\n",
            "2025-07-25 20:44:43,649 [INFO] Downloading: \"https://huggingface.co/mouseland/cellpose-sam/resolve/main/cpsam\" to /root/.cellpose/models/cpsam\n",
            "\n"
          ]
        },
        {
          "output_type": "stream",
          "name": "stderr",
          "text": [
            "100%|██████████| 1.15G/1.15G [00:04<00:00, 267MB/s]\n"
          ]
        }
      ]
    },
    {
      "cell_type": "code",
      "source": [
        "from cellpose import models, core, io\n",
        "\n",
        "io.logger_setup()  # Enables progress printing\n",
        "\n",
        "# Check if GPU is available\n",
        "if not core.use_gpu():\n",
        "    raise ImportError(\"No GPU access. Change your Colab runtime to GPU.\")\n",
        "\n",
        "# Load Cellpose model (SAM backend)\n",
        "model = models.CellposeModel(gpu=True)"
      ],
      "metadata": {
        "id": "8jOh7TuQCuUL",
        "outputId": "081a6450-cc26-4833-eb85-32920cb5cae9",
        "colab": {
          "base_uri": "https://localhost:8080/"
        }
      },
      "execution_count": null,
      "outputs": [
        {
          "output_type": "stream",
          "name": "stdout",
          "text": [
            "2025-07-25 20:44:49,410 [INFO] WRITING LOG OUTPUT TO /root/.cellpose/run.log\n",
            "2025-07-25 20:44:49,411 [INFO] \n",
            "cellpose version: \t4.0.7.dev7+gdf6b944 \n",
            "platform:       \tlinux \n",
            "python version: \t3.11.13 \n",
            "torch version:  \t2.6.0+cu124\n",
            "2025-07-25 20:44:49,412 [INFO] ** TORCH CUDA version installed and working. **\n",
            "2025-07-25 20:44:49,413 [INFO] ** TORCH CUDA version installed and working. **\n",
            "2025-07-25 20:44:49,413 [INFO] >>>> using GPU (CUDA)\n",
            "2025-07-25 20:44:51,910 [INFO] >>>> loading model /root/.cellpose/models/cpsam\n"
          ]
        }
      ]
    },
    {
      "cell_type": "code",
      "source": [
        "# === LOOK FOR EXPERIMENTS IN RAW_DIR ===\n",
        "from segmentation import print_experiment_summary\n",
        "print_experiment_summary(RAW_DIR)\n"
      ],
      "metadata": {
        "id": "lgp7I79EidHc",
        "outputId": "e06ad730-5d14-44a8-ca73-f7c41dd86910",
        "colab": {
          "base_uri": "https://localhost:8080/"
        }
      },
      "execution_count": null,
      "outputs": [
        {
          "output_type": "stream",
          "name": "stdout",
          "text": [
            "\n",
            " Scanning raw data directory: /content/HyperThelia/Hyperthelia_project/data_demo\n",
            "🧪 Found 6 TIFF(s) in demothelia:\n",
            "    demothelia_5.tif\n",
            "    demothelia_1.tif\n",
            "    demothelia_2.tif\n",
            "    demothelia_4.tif\n",
            "    demothelia_6.tif\n",
            "    demothelia_3.tif\n",
            " Found 1 experiment folder(s) to process.\n",
            "  1. demothelia: 6 TIFF(s)\n",
            "     Shape: (30, 225, 225)\n"
          ]
        }
      ]
    },
    {
      "cell_type": "code",
      "source": [
        "from segmentation import run_segmentation_pipeline\n",
        "\n",
        "# === SEGMENTATION PARAMETERS ===\n",
        "Z_AXIS = 0\n",
        "CHANNEL_AXIS = 1\n",
        "BATCH_SIZE = 32\n",
        "DO_3D = False\n",
        "STITCH_THRESHOLD = 0.5\n",
        "\n",
        "# === RUN PIPELINE ===\n",
        "run_segmentation_pipeline(\n",
        "    RAW_DIR,\n",
        "    OUTPUTS_DIR,\n",
        "    model,\n",
        "    z_axis=Z_AXIS,\n",
        "    channel_axis=CHANNEL_AXIS,\n",
        "    batch_size=BATCH_SIZE,\n",
        "    do_3D=DO_3D,\n",
        "    stitch_threshold=STITCH_THRESHOLD\n",
        ")\n"
      ],
      "metadata": {
        "id": "BspRpjkaaDoN",
        "outputId": "7a3d21d1-6be2-4569-8803-58f162c8d7de",
        "colab": {
          "base_uri": "https://localhost:8080/"
        }
      },
      "execution_count": null,
      "outputs": [
        {
          "output_type": "stream",
          "name": "stdout",
          "text": [
            "\n",
            " Scanning raw data directory: /content/HyperThelia/Hyperthelia_project/data_demo\n",
            "🧪 Found 6 TIFF(s) in demothelia:\n",
            "    demothelia_5.tif\n",
            "    demothelia_1.tif\n",
            "    demothelia_2.tif\n",
            "    demothelia_4.tif\n",
            "    demothelia_6.tif\n",
            "    demothelia_3.tif\n",
            "\n",
            " Starting segmentation for experiment: demothelia (6 TIFFs)\n",
            " Will now segment 6 TIFF file(s)...\n",
            " Segmenting: demothelia_1.tif\n",
            "2025-07-25 20:44:52,848 [INFO] 0%|          | 0/1 [00:00<?, ?it/s]\n",
            "2025-07-25 20:44:53,908 [INFO] 100%|##########| 1/1 [00:01<00:00,  1.06s/it]\n",
            "2025-07-25 20:44:53,909 [INFO] network run in 1.06s\n",
            "2025-07-25 20:44:53,953 [INFO] 0%|          | 0/30 [00:00<?, ?it/s]\n",
            "2025-07-25 20:44:56,136 [INFO] No cell pixels found.\n",
            "2025-07-25 20:44:56,138 [INFO] No cell pixels found.\n",
            "2025-07-25 20:44:56,139 [INFO] 100%|##########| 30/30 [00:02<00:00, 13.73it/s]\n",
            "2025-07-25 20:44:56,139 [INFO] stitching 30 planes using stitch_threshold=0.500 to make 3D masks\n"
          ]
        },
        {
          "output_type": "stream",
          "name": "stderr",
          "text": [
            "100%|██████████| 29/29 [00:00<00:00, 478.33it/s]"
          ]
        },
        {
          "output_type": "stream",
          "name": "stdout",
          "text": [
            "2025-07-25 20:44:56,226 [INFO] masks created in 2.27s\n",
            " Saved: segmented_demothelia_1.pkl to /content/HyperThelia/Hyperthelia_project/outputs/outputs_demothelia/raw_segmented_pickles\n",
            " Saved TIFF: segmented_demothelia_1.tif to /content/HyperThelia/Hyperthelia_project/outputs/outputs_demothelia/raw_segmented_tiffs\n",
            " Segmenting: demothelia_2.tif\n"
          ]
        },
        {
          "output_type": "stream",
          "name": "stderr",
          "text": [
            "\n"
          ]
        },
        {
          "output_type": "stream",
          "name": "stdout",
          "text": [
            "2025-07-25 20:44:56,372 [INFO] 0%|          | 0/1 [00:00<?, ?it/s]\n",
            "2025-07-25 20:44:56,853 [INFO] 100%|##########| 1/1 [00:00<00:00,  2.08it/s]\n",
            "2025-07-25 20:44:56,854 [INFO] network run in 0.48s\n",
            "2025-07-25 20:44:56,878 [INFO] 0%|          | 0/30 [00:00<?, ?it/s]\n",
            "2025-07-25 20:44:56,879 [INFO] No cell pixels found.\n",
            "2025-07-25 20:44:58,466 [INFO] No cell pixels found.\n",
            "2025-07-25 20:44:58,467 [INFO] 100%|##########| 30/30 [00:01<00:00, 18.89it/s]\n",
            "2025-07-25 20:44:58,467 [INFO] stitching 30 planes using stitch_threshold=0.500 to make 3D masks\n"
          ]
        },
        {
          "output_type": "stream",
          "name": "stderr",
          "text": [
            "100%|██████████| 29/29 [00:00<00:00, 589.72it/s]"
          ]
        },
        {
          "output_type": "stream",
          "name": "stdout",
          "text": [
            "2025-07-25 20:44:58,543 [INFO] masks created in 1.67s\n",
            " Saved: segmented_demothelia_2.pkl to /content/HyperThelia/Hyperthelia_project/outputs/outputs_demothelia/raw_segmented_pickles\n",
            " Saved TIFF: segmented_demothelia_2.tif to /content/HyperThelia/Hyperthelia_project/outputs/outputs_demothelia/raw_segmented_tiffs\n",
            " Segmenting: demothelia_3.tif\n"
          ]
        },
        {
          "output_type": "stream",
          "name": "stderr",
          "text": [
            "\n"
          ]
        },
        {
          "output_type": "stream",
          "name": "stdout",
          "text": [
            "2025-07-25 20:44:58,683 [INFO] 0%|          | 0/1 [00:00<?, ?it/s]\n",
            "2025-07-25 20:44:59,144 [INFO] 100%|##########| 1/1 [00:00<00:00,  2.17it/s]\n",
            "2025-07-25 20:44:59,145 [INFO] network run in 0.46s\n",
            "2025-07-25 20:44:59,168 [INFO] 0%|          | 0/30 [00:00<?, ?it/s]\n",
            "2025-07-25 20:45:00,664 [WARNING] no seeds found in get_masks_torch - no masks found.\n",
            "2025-07-25 20:45:00,817 [INFO] 100%|##########| 30/30 [00:01<00:00, 18.21it/s]\n",
            "2025-07-25 20:45:00,818 [INFO] stitching 30 planes using stitch_threshold=0.500 to make 3D masks\n"
          ]
        },
        {
          "output_type": "stream",
          "name": "stderr",
          "text": [
            "100%|██████████| 29/29 [00:00<00:00, 581.73it/s]"
          ]
        },
        {
          "output_type": "stream",
          "name": "stdout",
          "text": [
            "2025-07-25 20:45:00,892 [INFO] masks created in 1.72s\n",
            " Saved: segmented_demothelia_3.pkl to /content/HyperThelia/Hyperthelia_project/outputs/outputs_demothelia/raw_segmented_pickles\n",
            " Saved TIFF: segmented_demothelia_3.tif to /content/HyperThelia/Hyperthelia_project/outputs/outputs_demothelia/raw_segmented_tiffs\n",
            " Segmenting: demothelia_4.tif\n"
          ]
        },
        {
          "output_type": "stream",
          "name": "stderr",
          "text": [
            "\n"
          ]
        },
        {
          "output_type": "stream",
          "name": "stdout",
          "text": [
            "2025-07-25 20:45:01,047 [INFO] 0%|          | 0/1 [00:00<?, ?it/s]\n",
            "2025-07-25 20:45:01,516 [INFO] 100%|##########| 1/1 [00:00<00:00,  2.14it/s]\n",
            "2025-07-25 20:45:01,517 [INFO] network run in 0.47s\n",
            "2025-07-25 20:45:01,541 [INFO] 0%|          | 0/30 [00:00<?, ?it/s]\n",
            "2025-07-25 20:45:03,229 [INFO] 100%|##########| 30/30 [00:01<00:00, 17.78it/s]\n",
            "2025-07-25 20:45:03,230 [INFO] stitching 30 planes using stitch_threshold=0.500 to make 3D masks\n"
          ]
        },
        {
          "output_type": "stream",
          "name": "stderr",
          "text": [
            "100%|██████████| 29/29 [00:00<00:00, 581.18it/s]"
          ]
        },
        {
          "output_type": "stream",
          "name": "stdout",
          "text": [
            "2025-07-25 20:45:03,304 [INFO] masks created in 1.76s\n",
            " Saved: segmented_demothelia_4.pkl to /content/HyperThelia/Hyperthelia_project/outputs/outputs_demothelia/raw_segmented_pickles\n",
            " Saved TIFF: segmented_demothelia_4.tif to /content/HyperThelia/Hyperthelia_project/outputs/outputs_demothelia/raw_segmented_tiffs\n",
            " Segmenting: demothelia_5.tif\n"
          ]
        },
        {
          "output_type": "stream",
          "name": "stderr",
          "text": [
            "\n"
          ]
        },
        {
          "output_type": "stream",
          "name": "stdout",
          "text": [
            "2025-07-25 20:45:03,469 [INFO] 0%|          | 0/1 [00:00<?, ?it/s]\n",
            "2025-07-25 20:45:03,935 [INFO] 100%|##########| 1/1 [00:00<00:00,  2.15it/s]\n",
            "2025-07-25 20:45:03,936 [INFO] network run in 0.47s\n",
            "2025-07-25 20:45:03,959 [INFO] 0%|          | 0/30 [00:00<?, ?it/s]\n",
            "2025-07-25 20:45:03,960 [INFO] No cell pixels found.\n",
            "2025-07-25 20:45:05,659 [INFO] 100%|##########| 30/30 [00:01<00:00, 17.65it/s]\n",
            "2025-07-25 20:45:05,660 [INFO] stitching 30 planes using stitch_threshold=0.500 to make 3D masks\n"
          ]
        },
        {
          "output_type": "stream",
          "name": "stderr",
          "text": [
            "100%|██████████| 29/29 [00:00<00:00, 602.82it/s]"
          ]
        },
        {
          "output_type": "stream",
          "name": "stdout",
          "text": [
            "2025-07-25 20:45:05,733 [INFO] masks created in 1.77s\n",
            " Saved: segmented_demothelia_5.pkl to /content/HyperThelia/Hyperthelia_project/outputs/outputs_demothelia/raw_segmented_pickles\n",
            " Saved TIFF: segmented_demothelia_5.tif to /content/HyperThelia/Hyperthelia_project/outputs/outputs_demothelia/raw_segmented_tiffs\n",
            " Segmenting: demothelia_6.tif\n"
          ]
        },
        {
          "output_type": "stream",
          "name": "stderr",
          "text": [
            "\n"
          ]
        },
        {
          "output_type": "stream",
          "name": "stdout",
          "text": [
            "2025-07-25 20:45:05,889 [INFO] 0%|          | 0/1 [00:00<?, ?it/s]\n",
            "2025-07-25 20:45:06,354 [INFO] 100%|##########| 1/1 [00:00<00:00,  2.16it/s]\n",
            "2025-07-25 20:45:06,355 [INFO] network run in 0.47s\n",
            "2025-07-25 20:45:06,378 [INFO] 0%|          | 0/30 [00:00<?, ?it/s]\n",
            "2025-07-25 20:45:08,099 [INFO] 100%|##########| 30/30 [00:01<00:00, 17.44it/s]\n",
            "2025-07-25 20:45:08,100 [INFO] stitching 30 planes using stitch_threshold=0.500 to make 3D masks\n"
          ]
        },
        {
          "output_type": "stream",
          "name": "stderr",
          "text": [
            "100%|██████████| 29/29 [00:00<00:00, 574.50it/s]"
          ]
        },
        {
          "output_type": "stream",
          "name": "stdout",
          "text": [
            "2025-07-25 20:45:08,175 [INFO] masks created in 1.80s\n",
            " Saved: segmented_demothelia_6.pkl to /content/HyperThelia/Hyperthelia_project/outputs/outputs_demothelia/raw_segmented_pickles\n",
            " Saved TIFF: segmented_demothelia_6.tif to /content/HyperThelia/Hyperthelia_project/outputs/outputs_demothelia/raw_segmented_tiffs\n"
          ]
        },
        {
          "output_type": "stream",
          "name": "stderr",
          "text": [
            "\n"
          ]
        }
      ]
    },
    {
      "cell_type": "code",
      "source": [
        "from measurevisualise import interactive_segmentation_viewer\n",
        "interactive_segmentation_viewer(BASE_PROJECT_DIR / \"outputs\")\n"
      ],
      "metadata": {
        "id": "aHE8SXW1wlY5",
        "outputId": "a8b128f7-ace8-41dd-92f8-482875f25193",
        "colab": {
          "base_uri": "https://localhost:8080/",
          "height": 493,
          "referenced_widgets": [
            "289462fb62bf4d52b660d82acb9f039c",
            "2ef0f4146bdb47f3818ca2b2d57069a4",
            "435fd8e95989494586af4df19db0853d",
            "2e96b1d833d14e2e8207d3692a177117",
            "ef1fbd54071648b7b3139d400ab0a8b7",
            "6229bf2fe06d4a6680e6b917e20e85ae",
            "9b8866cc0f7a4b0aa6ad36ac753911a8",
            "c8f43a4dad90419cb58b70d66256e93d",
            "9ab132c048874c48b24973b684fef489",
            "4438e8eef53d4868864532b4cccb0c05",
            "cfbc6075a5804ec8970118c4d44084c7",
            "9d7a2a3cea3845a291f1f949e629dda2",
            "d1b45b34ecde484aa82d04887829814c"
          ]
        }
      },
      "execution_count": null,
      "outputs": [
        {
          "output_type": "stream",
          "name": "stdout",
          "text": [
            "2025-07-25 20:45:08,409 [INFO] NumExpr defaulting to 12 threads.\n"
          ]
        },
        {
          "output_type": "display_data",
          "data": {
            "text/plain": [
              "HBox(children=(BoundedIntText(value=0, description='Experiment:', max=0), BoundedIntText(value=0, description=…"
            ],
            "application/vnd.jupyter.widget-view+json": {
              "version_major": 2,
              "version_minor": 0,
              "model_id": "289462fb62bf4d52b660d82acb9f039c"
            }
          },
          "metadata": {}
        },
        {
          "output_type": "display_data",
          "data": {
            "text/plain": [
              "Output()"
            ],
            "application/vnd.jupyter.widget-view+json": {
              "version_major": 2,
              "version_minor": 0,
              "model_id": "9d7a2a3cea3845a291f1f949e629dda2"
            }
          },
          "metadata": {}
        }
      ]
    },
    {
      "cell_type": "markdown",
      "source": [
        "PART II TRACKING"
      ],
      "metadata": {
        "id": "z05Dx6zyD7-6"
      }
    },
    {
      "cell_type": "code",
      "source": [
        "import tracking\n",
        "import propagation\n",
        "import visualisation\n",
        "\n",
        "import importlib\n",
        "# importlib.reload(tracking)\n",
        "# importlib.reload(propagation)\n",
        "# importlib.reload(visualisation)"
      ],
      "metadata": {
        "id": "XdexfkA3E3Z2",
        "outputId": "1c325e59-7e57-4b31-be24-928e318b12b7",
        "colab": {
          "base_uri": "https://localhost:8080/"
        }
      },
      "execution_count": null,
      "outputs": [
        {
          "output_type": "stream",
          "name": "stdout",
          "text": [
            " visualisation.py loaded with functions:\n"
          ]
        }
      ]
    },
    {
      "cell_type": "code",
      "source": [
        "# === AUTO CONFIGURATION ===\n",
        "\n",
        "# Tracking parameters (editable by user)\n",
        "XY_UM = 0.325\n",
        "Z_UM = 1.0\n",
        "MAX_DIST_UM = 10\n",
        "MIN_VOLUME = 200\n",
        "MAX_VOLUME = 8000\n",
        "EDGE_MARGIN = 1\n",
        "TRACKING_MODE = \"nearest\""
      ],
      "metadata": {
        "id": "9rQEOIxhEANJ"
      },
      "execution_count": null,
      "outputs": []
    },
    {
      "cell_type": "code",
      "source": [
        "# === STEP 1: VISUALISE PRE-TRACKING ===\n",
        "from visualisation import plot_volume_histogram_for_experiment, view_segmentation_slice_with_boundaries, get_segmented_tiffs_by_experiment\n",
        "\n",
        "experiments = get_segmented_tiffs_by_experiment(OUTPUTS_DIR)\n",
        "\n",
        "plot_volume_histogram_for_experiment(exp_index=0,\n",
        "                                                   experiments_dict=experiments,\n",
        "                                                   min_volume=MIN_VOLUME,\n",
        "                                                   max_volume=MAX_VOLUME)\n",
        "\n",
        "view_segmentation_slice_with_boundaries(exp_index=0,\n",
        "                                        experiments_dict=experiments,\n",
        "                                        time_index=0,\n",
        "                                        z_slice=18,\n",
        "                                        edge_margin=EDGE_MARGIN)\n",
        "\n"
      ],
      "metadata": {
        "id": "6rWrlE7pEAKS",
        "outputId": "43b28d50-67c4-4c83-e80e-f3912d073465",
        "colab": {
          "base_uri": "https://localhost:8080/",
          "height": 1000
        }
      },
      "execution_count": null,
      "outputs": [
        {
          "output_type": "stream",
          "name": "stdout",
          "text": [
            " Looking for segmented TIFFs in: /content/HyperThelia/Hyperthelia_project/outputs\n",
            "\n",
            " Checking: /content/HyperThelia/Hyperthelia_project/outputs/outputs_demothelia/raw_segmented_tiffs\n",
            " Found 6 TIFF(s) in /content/HyperThelia/Hyperthelia_project/outputs/outputs_demothelia/raw_segmented_tiffs\n",
            " Timepoint log saved to: /content/HyperThelia/Hyperthelia_project/outputs/outputs_demothelia/tracking/timepoint_log.txt\n",
            "\n",
            " Plotting volumes for experiment: demothelia (6 TIFFs)\n"
          ]
        },
        {
          "output_type": "display_data",
          "data": {
            "text/plain": [
              "<Figure size 800x500 with 1 Axes>"
            ],
            "image/png": "[encoded data removed]"
          },
          "metadata": {}
        },
        {
          "output_type": "stream",
          "name": "stdout",
          "text": [
            "\n",
            "🩻 Viewing experiment: demothelia, timepoint 0, Z-slice 18\n"
          ]
        },
        {
          "output_type": "display_data",
          "data": {
            "text/plain": [
              "<Figure size 700x700 with 1 Axes>"
            ],
            "image/png": "[encoded data removed]"
          },
          "metadata": {}
        }
      ]
    },
    {
      "cell_type": "code",
      "source": [
        "# === STEP 2: RUN TRACKING ===\n",
        "tracking.run_tracking_pipeline(\n",
        "    output_base_dir=OUTPUTS_DIR,\n",
        "    xy_um=XY_UM,\n",
        "    z_um=Z_UM,\n",
        "    max_dist_um=MAX_DIST_UM,\n",
        "    min_volume=MIN_VOLUME,\n",
        "    max_volume=MAX_VOLUME,\n",
        "    edge_margin=EDGE_MARGIN,\n",
        "    tracking_mode=TRACKING_MODE\n",
        ")"
      ],
      "metadata": {
        "id": "d-0F1SiUEx2w",
        "outputId": "0b68a9ae-389b-42e8-b599-acb273e0a0eb",
        "colab": {
          "base_uri": "https://localhost:8080/"
        }
      },
      "execution_count": null,
      "outputs": [
        {
          "output_type": "stream",
          "name": "stdout",
          "text": [
            " Looking for segmented TIFFs in: /content/HyperThelia/Hyperthelia_project/outputs\n",
            "\n",
            " Checking: /content/HyperThelia/Hyperthelia_project/outputs/outputs_demothelia/raw_segmented_tiffs\n",
            " Found 6 TIFF(s) in /content/HyperThelia/Hyperthelia_project/outputs/outputs_demothelia/raw_segmented_tiffs\n",
            " Timepoint log saved to: /content/HyperThelia/Hyperthelia_project/outputs/outputs_demothelia/tracking/timepoint_log.txt\n",
            "\n",
            " Tracking 6 TIFF(s) for experiment: demothelia\n",
            " Saved tracking results to: /content/HyperThelia/Hyperthelia_project/outputs/outputs_demothelia/tracking/tracked_objects.pkl\n",
            " demothelia: Tracked 119 total objects across 6 timepoints.\n"
          ]
        }
      ]
    },
    {
      "cell_type": "code",
      "source": [
        "# === STEP 3: PROPAGATE LABELS ===\n",
        "propagation.run_propagation_pipeline(output_base_dir=OUTPUTS_DIR)"
      ],
      "metadata": {
        "id": "utXpl1siGfwy",
        "outputId": "07443620-e9e1-47ef-82a8-4bf0cb1946c3",
        "colab": {
          "base_uri": "https://localhost:8080/"
        }
      },
      "execution_count": null,
      "outputs": [
        {
          "output_type": "stream",
          "name": "stdout",
          "text": [
            " Looking for segmented TIFFs in: /content/HyperThelia/Hyperthelia_project/outputs\n",
            "\n",
            " Checking: /content/HyperThelia/Hyperthelia_project/outputs/outputs_demothelia/raw_segmented_tiffs\n",
            " Found 6 TIFF(s) in /content/HyperThelia/Hyperthelia_project/outputs/outputs_demothelia/raw_segmented_tiffs\n",
            " Timepoint log saved to: /content/HyperThelia/Hyperthelia_project/outputs/outputs_demothelia/tracking/timepoint_log.txt\n",
            "\n",
            " Propagating labels for experiment: demothelia\n",
            "✅ Propagation complete.\n",
            "→ Full masks:       /content/HyperThelia/Hyperthelia_project/outputs/outputs_demothelia/tracking/full_masks\n",
            "→ Centroid masks:   /content/HyperThelia/Hyperthelia_project/outputs/outputs_demothelia/tracking/centroid_labels\n",
            "→ Centroid CSV:     /content/HyperThelia/Hyperthelia_project/outputs/outputs_demothelia/tracking/centroids/centroids.csv\n"
          ]
        }
      ]
    },
    {
      "cell_type": "code",
      "source": [
        "# === STEP 4: VISUALISE POST-TRACKING ===\n",
        "visualisation.plot_tracked_centroids_xy_by_index(exp_index=0, output_base_dir=OUTPUTS_DIR)\n",
        "visualisation.preview_propagated_labels_zslice(exp_index=0, z_slice=18, output_base_dir=OUTPUTS_DIR)"
      ],
      "metadata": {
        "id": "vutIkfMWGml6",
        "outputId": "28735756-ff85-4e6b-8df7-731c85da738e",
        "colab": {
          "base_uri": "https://localhost:8080/",
          "height": 1000
        }
      },
      "execution_count": null,
      "outputs": [
        {
          "output_type": "stream",
          "name": "stdout",
          "text": [
            " Looking for segmented TIFFs in: /content/HyperThelia/Hyperthelia_project/outputs\n",
            "\n",
            " Checking: /content/HyperThelia/Hyperthelia_project/outputs/outputs_demothelia/raw_segmented_tiffs\n",
            " Found 6 TIFF(s) in /content/HyperThelia/Hyperthelia_project/outputs/outputs_demothelia/raw_segmented_tiffs\n",
            " Timepoint log saved to: /content/HyperThelia/Hyperthelia_project/outputs/outputs_demothelia/tracking/timepoint_log.txt\n",
            " Visualizing tracking for: demothelia\n"
          ]
        },
        {
          "output_type": "display_data",
          "data": {
            "text/plain": [
              "<Figure size 800x800 with 2 Axes>"
            ],
            "image/png": "[encoded data removed]"
          },
          "metadata": {}
        },
        {
          "output_type": "stream",
          "name": "stdout",
          "text": [
            " Looking for segmented TIFFs in: /content/HyperThelia/Hyperthelia_project/outputs\n",
            "\n",
            " Checking: /content/HyperThelia/Hyperthelia_project/outputs/outputs_demothelia/raw_segmented_tiffs\n",
            " Found 6 TIFF(s) in /content/HyperThelia/Hyperthelia_project/outputs/outputs_demothelia/raw_segmented_tiffs\n",
            " Timepoint log saved to: /content/HyperThelia/Hyperthelia_project/outputs/outputs_demothelia/tracking/timepoint_log.txt\n"
          ]
        },
        {
          "output_type": "display_data",
          "data": {
            "text/plain": [
              "<Figure size 1800x400 with 6 Axes>"
            ],
            "image/png": "[encoded data removed]"
          },
          "metadata": {}
        }
      ]
    },
    {
      "cell_type": "markdown",
      "source": [
        "Part III: Measurement"
      ],
      "metadata": {
        "id": "m9e8G3CqH4Bz"
      }
    },
    {
      "cell_type": "code",
      "source": [
        "import importlib\n",
        "import measurement\n",
        "import measurevisualise\n",
        "importlib.reload(measurevisualise)\n",
        "importlib.reload(measurement)"
      ],
      "metadata": {
        "id": "7s10PyYoIe9w",
        "outputId": "3e3daf40-0f2f-40fc-f96c-913b692e1a14",
        "colab": {
          "base_uri": "https://localhost:8080/"
        }
      },
      "execution_count": null,
      "outputs": [
        {
          "output_type": "execute_result",
          "data": {
            "text/plain": [
              "<module 'measurement' from '/content/HyperThelia/Hyperthelia_project/notebooks/lib/measurement.py'>"
            ]
          },
          "metadata": {},
          "execution_count": 25
        }
      ]
    },
    {
      "cell_type": "code",
      "source": [
        "# ===  USER TOGGLES FOR MEASURES ===\n",
        "is_tracked = True\n",
        "compute_surface = True\n",
        "enable_intensity_measurement = False\n",
        "intensity_channel_mode = \"folder\"\n",
        "force = False\n",
        "RAW_INTENSITY_DIR = BASE_PROJECT_DIR / \"raw_intensity\"\n",
        "EXPORT_DIR = BASE_PROJECT_DIR / \"image_exports\"\n"
      ],
      "metadata": {
        "id": "zg2IvY-pIn4P"
      },
      "execution_count": null,
      "outputs": []
    },
    {
      "cell_type": "code",
      "source": [
        "# ===  LIST AVAILABLE EXPERIMENTS ===\n",
        "experiment_data = measurement.discover_experiments(OUTPUTS_DIR, is_tracked=is_tracked)\n",
        "measurement.summarise_experiment_data(experiment_data)"
      ],
      "metadata": {
        "id": "M51cpwqSIh-G",
        "outputId": "07fdbf48-6a43-4ef9-e9c0-f7326724cf7f",
        "colab": {
          "base_uri": "https://localhost:8080/",
          "height": 168
        }
      },
      "execution_count": null,
      "outputs": [
        {
          "output_type": "stream",
          "name": "stdout",
          "text": [
            "\n",
            " Summary of discovered experiments\n",
            " Total experiments: 1\n",
            "🧮 Total TIFFs: 6\n",
            "\n"
          ]
        },
        {
          "output_type": "execute_result",
          "data": {
            "text/plain": [
              "   experiment  n_tiffs\n",
              "0  demothelia        6"
            ],
            "text/html": [
              "\n",
              "  <div id=\"df-69f0f4a7-209e-4185-bd23-ca502e6157f3\" class=\"colab-df-container\">\n",
              "    <div>\n",
              "<style scoped>\n",
              "    .dataframe tbody tr th:only-of-type {\n",
              "        vertical-align: middle;\n",
              "    }\n",
              "\n",
              "    .dataframe tbody tr th {\n",
              "        vertical-align: top;\n",
              "    }\n",
              "\n",
              "    .dataframe thead th {\n",
              "        text-align: right;\n",
              "    }\n",
              "</style>\n",
              "<table border=\"1\" class=\"dataframe\">\n",
              "  <thead>\n",
              "    <tr style=\"text-align: right;\">\n",
              "      <th></th>\n",
              "      <th>experiment</th>\n",
              "      <th>n_tiffs</th>\n",
              "    </tr>\n",
              "  </thead>\n",
              "  <tbody>\n",
              "    <tr>\n",
              "      <th>0</th>\n",
              "      <td>demothelia</td>\n",
              "      <td>6</td>\n",
              "    </tr>\n",
              "  </tbody>\n",
              "</table>\n",
              "</div>\n",
              "    <div class=\"colab-df-buttons\">\n",
              "\n",
              "  <div class=\"colab-df-container\">\n",
              "    <button class=\"colab-df-convert\" onclick=\"convertToInteractive('df-69f0f4a7-209e-4185-bd23-ca502e6157f3')\"\n",
              "            title=\"Convert this dataframe to an interactive table.\"\n",
              "            style=\"display:none;\">\n",
              "\n",
              "  <svg xmlns=\"http://www.w3.org/2000/svg\" height=\"24px\" viewBox=\"0 -960 960 960\">\n",
              "    <path d=\"M120-120v-720h720v720H120Zm60-500h600v-160H180v160Zm220 220h160v-160H400v160Zm0 220h160v-160H400v160ZM180-400h160v-160H180v160Zm440 0h160v-160H620v160ZM180-180h160v-160H180v160Zm440 0h160v-160H620v160Z\"/>\n",
              "  </svg>\n",
              "    </button>\n",
              "\n",
              "  <style>\n",
              "    .colab-df-container {\n",
              "      display:flex;\n",
              "      gap: 12px;\n",
              "    }\n",
              "\n",
              "    .colab-df-convert {\n",
              "      background-color: #E8F0FE;\n",
              "      border: none;\n",
              "      border-radius: 50%;\n",
              "      cursor: pointer;\n",
              "      display: none;\n",
              "      fill: #1967D2;\n",
              "      height: 32px;\n",
              "      padding: 0 0 0 0;\n",
              "      width: 32px;\n",
              "    }\n",
              "\n",
              "    .colab-df-convert:hover {\n",
              "      background-color: #E2EBFA;\n",
              "      box-shadow: 0px 1px 2px rgba(60, 64, 67, 0.3), 0px 1px 3px 1px rgba(60, 64, 67, 0.15);\n",
              "      fill: #174EA6;\n",
              "    }\n",
              "\n",
              "    .colab-df-buttons div {\n",
              "      margin-bottom: 4px;\n",
              "    }\n",
              "\n",
              "    [theme=dark] .colab-df-convert {\n",
              "      background-color: #3B4455;\n",
              "      fill: #D2E3FC;\n",
              "    }\n",
              "\n",
              "    [theme=dark] .colab-df-convert:hover {\n",
              "      background-color: #434B5C;\n",
              "      box-shadow: 0px 1px 3px 1px rgba(0, 0, 0, 0.15);\n",
              "      filter: drop-shadow(0px 1px 2px rgba(0, 0, 0, 0.3));\n",
              "      fill: #FFFFFF;\n",
              "    }\n",
              "  </style>\n",
              "\n",
              "    <script>\n",
              "      const buttonEl =\n",
              "        document.querySelector('#df-69f0f4a7-209e-4185-bd23-ca502e6157f3 button.colab-df-convert');\n",
              "      buttonEl.style.display =\n",
              "        google.colab.kernel.accessAllowed ? 'block' : 'none';\n",
              "\n",
              "      async function convertToInteractive(key) {\n",
              "        const element = document.querySelector('#df-69f0f4a7-209e-4185-bd23-ca502e6157f3');\n",
              "        const dataTable =\n",
              "          await google.colab.kernel.invokeFunction('convertToInteractive',\n",
              "                                                    [key], {});\n",
              "        if (!dataTable) return;\n",
              "\n",
              "        const docLinkHtml = 'Like what you see? Visit the ' +\n",
              "          '<a target=\"_blank\" href=https://colab.research.google.com/notebooks/data_table.ipynb>data table notebook</a>'\n",
              "          + ' to learn more about interactive tables.';\n",
              "        element.innerHTML = '';\n",
              "        dataTable['output_type'] = 'display_data';\n",
              "        await google.colab.output.renderOutput(dataTable, element);\n",
              "        const docLink = document.createElement('div');\n",
              "        docLink.innerHTML = docLinkHtml;\n",
              "        element.appendChild(docLink);\n",
              "      }\n",
              "    </script>\n",
              "  </div>\n",
              "\n",
              "\n",
              "    </div>\n",
              "  </div>\n"
            ],
            "application/vnd.google.colaboratory.intrinsic+json": {
              "type": "dataframe",
              "summary": "{\n  \"name\": \"measurement\",\n  \"rows\": 1,\n  \"fields\": [\n    {\n      \"column\": \"experiment\",\n      \"properties\": {\n        \"dtype\": \"string\",\n        \"num_unique_values\": 1,\n        \"samples\": [\n          \"demothelia\"\n        ],\n        \"semantic_type\": \"\",\n        \"description\": \"\"\n      }\n    },\n    {\n      \"column\": \"n_tiffs\",\n      \"properties\": {\n        \"dtype\": \"number\",\n        \"std\": null,\n        \"min\": 6,\n        \"max\": 6,\n        \"num_unique_values\": 1,\n        \"samples\": [\n          6\n        ],\n        \"semantic_type\": \"\",\n        \"description\": \"\"\n      }\n    }\n  ]\n}"
            }
          },
          "metadata": {},
          "execution_count": 27
        }
      ]
    },
    {
      "cell_type": "code",
      "source": [
        "# ===  MEASURE EXPERIMENTS ===\n",
        "measurement.run_all_measurements(\n",
        "    experiment_data=experiment_data,\n",
        "    is_tracked=is_tracked,\n",
        "    compute_surface=compute_surface,\n",
        "    enable_intensity_measurement=enable_intensity_measurement,\n",
        "    intensity_dir=RAW_INTENSITY_DIR,\n",
        "    force=force\n",
        ")\n"
      ],
      "metadata": {
        "id": "eTKTxmWXI1WJ",
        "outputId": "dcb35444-daf0-4658-8272-53ab34e8f181",
        "colab": {
          "base_uri": "https://localhost:8080/"
        }
      },
      "execution_count": null,
      "outputs": [
        {
          "output_type": "stream",
          "name": "stdout",
          "text": [
            "\n",
            "🧪 Measuring experiment: demothelia\n"
          ]
        },
        {
          "output_type": "stream",
          "name": "stderr",
          "text": [
            "   Timepoints for demothelia:   0%|          | 0/6 [00:00<?, ?it/s]\n",
            "   TP 0:   0%|          | 0/21 [00:00<?, ?it/s]\u001b[A\n",
            "   TP 0:  95%|█████████▌| 20/21 [00:01<00:00, 15.35it/s]\u001b[A\n",
            "   Timepoints for demothelia:  17%|█▋        | 1/6 [00:01<00:06,  1.37s/it]\n",
            "   TP 1:   0%|          | 0/23 [00:00<?, ?it/s]\u001b[A\n",
            "   TP 1:  87%|████████▋ | 20/23 [00:01<00:00, 16.41it/s]\u001b[A\n",
            "   Timepoints for demothelia:  33%|███▎      | 2/6 [00:02<00:05,  1.38s/it]\n",
            "   TP 2:   0%|          | 0/20 [00:00<?, ?it/s]\u001b[A\n",
            "   TP 2: 100%|██████████| 20/20 [00:01<00:00, 16.78it/s]\u001b[A\n",
            "   Timepoints for demothelia:  50%|█████     | 3/6 [00:03<00:03,  1.30s/it]\n",
            "   TP 3:   0%|          | 0/17 [00:00<?, ?it/s]\u001b[A\n",
            "   Timepoints for demothelia:  67%|██████▋   | 4/6 [00:05<00:02,  1.22s/it]\n",
            "   TP 4:   0%|          | 0/18 [00:00<?, ?it/s]\u001b[A\n",
            "   Timepoints for demothelia:  83%|████████▎ | 5/6 [00:06<00:01,  1.20s/it]\n",
            "   TP 5:   0%|          | 0/20 [00:00<?, ?it/s]\u001b[A\n",
            "   TP 5: 100%|██████████| 20/20 [00:01<00:00, 17.10it/s]\u001b[A\n",
            "   Timepoints for demothelia: 100%|██████████| 6/6 [00:07<00:00,  1.24s/it]"
          ]
        },
        {
          "output_type": "stream",
          "name": "stdout",
          "text": [
            " Saved: /content/HyperThelia/Hyperthelia_project/outputs/outputs_demothelia/measured/regionprops_demothelia_tracked.csv\n"
          ]
        },
        {
          "output_type": "stream",
          "name": "stderr",
          "text": [
            "\n"
          ]
        }
      ]
    },
    {
      "cell_type": "code",
      "source": [
        "# ===  LIST AVAILABLE MEASUREMENT CSVs ===\n",
        "measurevisualise.list_available_measurement_csvs(BASE_PROJECT_DIR)\n"
      ],
      "metadata": {
        "id": "YGKQ30VXJkOO",
        "outputId": "8b028d21-a12d-453e-af77-96a358e5a99d",
        "colab": {
          "base_uri": "https://localhost:8080/"
        }
      },
      "execution_count": null,
      "outputs": [
        {
          "output_type": "stream",
          "name": "stdout",
          "text": [
            "\n",
            " Available measurement CSVs:\n",
            "- outputs/outputs_demothelia/measured/regionprops_demothelia_tracked.csv\n"
          ]
        }
      ]
    },
    {
      "cell_type": "code",
      "source": [
        "import pandas as pd\n",
        "\n",
        "# Load the CSV and show all available measurement columns\n",
        "csv_path = BASE_PROJECT_DIR / \"outputs/outputs_demothelia/measured/regionprops_demothelia_tracked.csv\"\n",
        "df = pd.read_csv(csv_path)\n",
        "\n",
        "print(\"Available measurement columns:\")\n",
        "print(df.columns.tolist())\n"
      ],
      "metadata": {
        "id": "8svfyPtuK3k_",
        "outputId": "1953518d-bc97-4c71-bbce-938358ef2a98",
        "colab": {
          "base_uri": "https://localhost:8080/"
        }
      },
      "execution_count": null,
      "outputs": [
        {
          "output_type": "stream",
          "name": "stdout",
          "text": [
            "Available measurement columns:\n",
            "['experiment', 'label_id', 'timepoint', 'filename', 'source', 'is_tracked', 'area_voxels', 'centroid_z', 'centroid_y', 'centroid_x', 'bbox_zmin', 'bbox_ymin', 'bbox_xmin', 'bbox_zmax', 'bbox_ymax', 'bbox_xmax', 'major_axis_length', 'minor_axis_length', 'eigval1', 'eigval2', 'eigval3', 'elongation', 'aspect_ratio', 'surface_area', 'sphericity', 'valid_geometry']\n"
          ]
        }
      ]
    },
    {
      "cell_type": "code",
      "source": [
        "\n",
        "# ===  CHOOSE ONE MEASUREMENT CSV TO EXPLORE ===\n",
        "csv_path = BASE_PROJECT_DIR / \"outputs/outputs_demothelia/measured/regionprops_demothelia_tracked.csv\"\n",
        "\n",
        "# ===  VIEW A MEASUREMENT OVERLAY ===\n",
        "timepoint = 0\n",
        "z_slice = 19\n",
        "value_column = \"area_voxels\"  # or e.g. \"intensity_mean_C1\", \"elongation\", etc.\n",
        "\n",
        "measurevisualise.view_by_csv(\n",
        "    csv_path=csv_path,\n",
        "    base_dir=BASE_PROJECT_DIR,\n",
        "    timepoint=timepoint,\n",
        "    z=z_slice,\n",
        "    value_column=value_column\n",
        ")"
      ],
      "metadata": {
        "id": "h_SzVvj2Jpa2",
        "outputId": "ba44c0bb-15fa-4965-deaa-f80a248a4e3e",
        "colab": {
          "base_uri": "https://localhost:8080/",
          "height": 623
        }
      },
      "execution_count": null,
      "outputs": [
        {
          "output_type": "stream",
          "name": "stdout",
          "text": [
            "\n",
            " Viewing experiment: demothelia\n",
            "   Timepoint: 0, Z-Slice: 19\n",
            "   Value to color by: area_voxels\n",
            "   Image path: /content/HyperThelia/Hyperthelia_project/outputs/outputs_demothelia/tracking/full_masks/propagated_t000.tif\n",
            "   CSV path: /content/HyperThelia/Hyperthelia_project/outputs/outputs_demothelia/measured/regionprops_demothelia_tracked.csv\n"
          ]
        },
        {
          "output_type": "display_data",
          "data": {
            "text/plain": [
              "<Figure size 600x600 with 2 Axes>"
            ],
            "image/png": "[encoded data removed]"
          },
          "metadata": {}
        }
      ]
    },
    {
      "cell_type": "code",
      "source": [
        "# === Export TIFF ===\n",
        "measurevisualise.export_measurement_values_as_tiff(csv_path,\n",
        "                                  BASE_PROJECT_DIR,\n",
        "                                  timepoint = timepoint,\n",
        "                                  value_column = value_column,\n",
        "                                  output_dir=BASE_PROJECT_DIR / \"image_exports\")\n",
        "\n",
        "\n"
      ],
      "metadata": {
        "id": "MencJWI_LT26",
        "outputId": "bfcc1763-9417-4633-bf16-7b09cc4f514c",
        "colab": {
          "base_uri": "https://localhost:8080/"
        }
      },
      "execution_count": null,
      "outputs": [
        {
          "output_type": "stream",
          "name": "stdout",
          "text": [
            " Saved measurement TIFF: /content/HyperThelia/Hyperthelia_project/image_exports/demothelia_tp0_area_voxels.tif\n"
          ]
        }
      ]
    },
    {
      "cell_type": "code",
      "source": [],
      "metadata": {
        "id": "RWvRrvzvVfcw"
      },
      "execution_count": null,
      "outputs": []
    }
  ]
}