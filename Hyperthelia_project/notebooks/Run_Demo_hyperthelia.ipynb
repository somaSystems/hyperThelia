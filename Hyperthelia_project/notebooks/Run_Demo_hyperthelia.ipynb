{
  "nbformat": 4,
  "nbformat_minor": 0,
  "metadata": {
    "colab": {
      "provenance": [],
      "gpuType": "T4",
      "generative_ai_disabled": true,
      "private_outputs": true,
      "include_colab_link": true
    },
    "kernelspec": {
      "name": "python3",
      "display_name": "Python 3"
    },
    "language_info": {
      "name": "python"
    },
    "accelerator": "GPU"
  },
  "cells": [
    {
      "cell_type": "markdown",
      "metadata": {
        "id": "view-in-github",
        "colab_type": "text"
      },
      "source": [
        "<a href=\"https://colab.research.google.com/github/somaSystems/hyperThelia/blob/main/Run_Demo_hyperthelia.ipynb\" target=\"_parent\"><img src=\"https://colab.research.google.com/assets/colab-badge.svg\" alt=\"Open In Colab\"/></a>"
      ]
    },
    {
      "cell_type": "code",
      "source": [
        "###UNCOMMENT AND MOUNT DRIVE FOR MULTISESSION USE AND SAVING###\n",
        "\n",
        "# from google.colab import drive\n",
        "# drive.mount('/content/drive')\n"
      ],
      "metadata": {
        "id": "iV09C-4DWd22"
      },
      "execution_count": null,
      "outputs": []
    },
    {
      "cell_type": "code",
      "source": [
        "# 1. Clone if needed + bootstrap\n",
        "import sys\n",
        "from pathlib import Path\n",
        "\n",
        "\n",
        "REPO_URL = \"https://github.com/somaSystems/HyperThelia.git\"\n",
        "CLONE_PARENT_DIR = Path(\"/content\")\n",
        "CLONE_DIR = CLONE_PARENT_DIR / \"HyperThelia\"\n",
        "BASE_PROJECT_DIR = CLONE_DIR / \"Hyperthelia_project\"\n",
        "LIB_DIR = BASE_PROJECT_DIR / \"notebooks\" / \"lib\"\n",
        "\n",
        "if not CLONE_DIR.exists():\n",
        "    print(\"Cloning HyperThelia repo...\")\n",
        "    !git clone {REPO_URL} {CLONE_DIR}\n",
        "else:\n",
        "    print(\"HyperThelia repo already exists.\")\n",
        "\n",
        "if str(LIB_DIR) not in sys.path:\n",
        "    sys.path.insert(0, str(LIB_DIR))\n",
        "\n",
        "# 2. Now safe to import functions\n",
        "from setup_functions import clone_hyperthelia_repo, setup_project_io\n",
        "\n",
        "# 3. Use functions\n",
        "CLONE_DIR, BASE_PROJECT_DIR = clone_hyperthelia_repo(CLONE_PARENT_DIR)\n"
      ],
      "metadata": {
        "id": "QDRLS9Km-CJt"
      },
      "execution_count": null,
      "outputs": []
    },
    {
      "cell_type": "code",
      "source": [
        "from pathlib import Path\n",
        "\n",
        "# === BASE PROJECT SETUP ===\n",
        "BASE_PROJECT_DIR = Path(\"/content/HyperThelia/Hyperthelia_project\")\n",
        "RAW_DIR = Path(\"/content/HyperThelia/Hyperthelia_project/data_demo\")\n",
        "\n"
      ],
      "metadata": {
        "id": "5rWccB9jpg_l"
      },
      "execution_count": null,
      "outputs": []
    },
    {
      "cell_type": "code",
      "source": [
        "# Install latest Cellpose from GitHub (includes SAM support)\n",
        "!pip install git+https://github.com/mouseland/cellpose.git"
      ],
      "metadata": {
        "id": "FMBIVLeiTbSg"
      },
      "execution_count": null,
      "outputs": []
    },
    {
      "cell_type": "code",
      "source": [
        "# # === SESSION SETUP IMPORTS AND FUNCTIONS ===\n",
        "import segmentation\n",
        "import importlib\n",
        "importlib.reload(segmentation)\n",
        "\n",
        "RAW_DIR, OUTPUTS_DIR = setup_project_io(BASE_PROJECT_DIR)\n",
        "\n",
        "# SETUP LOGGER, CHECK GPU, and CELLPOSE MODEL\n",
        "\n",
        "from segmentation import setup_cellpose_model\n",
        "model = setup_cellpose_model(gpu=True)\n"
      ],
      "metadata": {
        "id": "vhy__I2x68KA"
      },
      "execution_count": null,
      "outputs": []
    },
    {
      "cell_type": "code",
      "source": [
        "from cellpose import models, core, io\n",
        "\n",
        "io.logger_setup()  # Enables progress printing\n",
        "\n",
        "# Check if GPU is available\n",
        "if not core.use_gpu():\n",
        "    raise ImportError(\"No GPU access. Change your Colab runtime to GPU.\")\n",
        "\n",
        "# Load Cellpose model (SAM backend)\n",
        "model = models.CellposeModel(gpu=True)"
      ],
      "metadata": {
        "id": "8jOh7TuQCuUL"
      },
      "execution_count": null,
      "outputs": []
    },
    {
      "cell_type": "code",
      "source": [
        "# === LOOK FOR EXPERIMENTS IN RAW_DIR ===\n",
        "from segmentation import print_experiment_summary\n",
        "print_experiment_summary(RAW_DIR)\n"
      ],
      "metadata": {
        "id": "lgp7I79EidHc"
      },
      "execution_count": null,
      "outputs": []
    },
    {
      "cell_type": "code",
      "source": [
        "from segmentation import run_segmentation_pipeline\n",
        "\n",
        "# === SEGMENTATION PARAMETERS ===\n",
        "Z_AXIS = 0\n",
        "CHANNEL_AXIS = 1\n",
        "BATCH_SIZE = 32\n",
        "DO_3D = False\n",
        "STITCH_THRESHOLD = 0.5\n",
        "\n",
        "# === RUN PIPELINE ===\n",
        "run_segmentation_pipeline(\n",
        "    RAW_DIR,\n",
        "    OUTPUTS_DIR,\n",
        "    model,\n",
        "    z_axis=Z_AXIS,\n",
        "    channel_axis=CHANNEL_AXIS,\n",
        "    batch_size=BATCH_SIZE,\n",
        "    do_3D=DO_3D,\n",
        "    stitch_threshold=STITCH_THRESHOLD\n",
        ")\n"
      ],
      "metadata": {
        "id": "BspRpjkaaDoN"
      },
      "execution_count": null,
      "outputs": []
    },
    {
      "cell_type": "code",
      "source": [
        "from measurevisualise import interactive_segmentation_viewer\n",
        "interactive_segmentation_viewer(BASE_PROJECT_DIR / \"outputs\")\n"
      ],
      "metadata": {
        "id": "aHE8SXW1wlY5"
      },
      "execution_count": null,
      "outputs": []
    },
    {
      "cell_type": "markdown",
      "source": [
        "PART II TRACKING"
      ],
      "metadata": {
        "id": "z05Dx6zyD7-6"
      }
    },
    {
      "cell_type": "code",
      "source": [
        "import tracking\n",
        "import propagation\n",
        "import visualisation\n",
        "\n",
        "import importlib\n",
        "# importlib.reload(tracking)\n",
        "# importlib.reload(propagation)\n",
        "# importlib.reload(visualisation)"
      ],
      "metadata": {
        "id": "XdexfkA3E3Z2"
      },
      "execution_count": null,
      "outputs": []
    },
    {
      "cell_type": "code",
      "source": [
        "# === AUTO CONFIGURATION ===\n",
        "\n",
        "# Tracking parameters (editable by user)\n",
        "XY_UM = 0.325\n",
        "Z_UM = 1.0\n",
        "MAX_DIST_UM = 10\n",
        "MIN_VOLUME = 200\n",
        "MAX_VOLUME = 8000\n",
        "EDGE_MARGIN = 1\n",
        "TRACKING_MODE = \"nearest\""
      ],
      "metadata": {
        "id": "9rQEOIxhEANJ"
      },
      "execution_count": null,
      "outputs": []
    },
    {
      "cell_type": "code",
      "source": [
        "# === STEP 1: VISUALISE PRE-TRACKING ===\n",
        "from visualisation import plot_volume_histogram_for_experiment, view_segmentation_slice_with_boundaries, get_segmented_tiffs_by_experiment\n",
        "\n",
        "experiments = get_segmented_tiffs_by_experiment(OUTPUTS_DIR)\n",
        "\n",
        "plot_volume_histogram_for_experiment(exp_index=0,\n",
        "                                                   experiments_dict=experiments,\n",
        "                                                   min_volume=MIN_VOLUME,\n",
        "                                                   max_volume=MAX_VOLUME)\n",
        "\n",
        "view_segmentation_slice_with_boundaries(exp_index=0,\n",
        "                                        experiments_dict=experiments,\n",
        "                                        time_index=0,\n",
        "                                        z_slice=18,\n",
        "                                        edge_margin=EDGE_MARGIN)\n",
        "\n"
      ],
      "metadata": {
        "id": "6rWrlE7pEAKS"
      },
      "execution_count": null,
      "outputs": []
    },
    {
      "cell_type": "code",
      "source": [
        "# === STEP 2: RUN TRACKING ===\n",
        "tracking.run_tracking_pipeline(\n",
        "    output_base_dir=OUTPUTS_DIR,\n",
        "    xy_um=XY_UM,\n",
        "    z_um=Z_UM,\n",
        "    max_dist_um=MAX_DIST_UM,\n",
        "    min_volume=MIN_VOLUME,\n",
        "    max_volume=MAX_VOLUME,\n",
        "    edge_margin=EDGE_MARGIN,\n",
        "    tracking_mode=TRACKING_MODE\n",
        ")"
      ],
      "metadata": {
        "id": "d-0F1SiUEx2w"
      },
      "execution_count": null,
      "outputs": []
    },
    {
      "cell_type": "code",
      "source": [
        "# === STEP 3: PROPAGATE LABELS ===\n",
        "propagation.run_propagation_pipeline(output_base_dir=OUTPUTS_DIR)"
      ],
      "metadata": {
        "id": "utXpl1siGfwy"
      },
      "execution_count": null,
      "outputs": []
    },
    {
      "cell_type": "code",
      "source": [
        "# === STEP 4: VISUALISE POST-TRACKING ===\n",
        "visualisation.plot_tracked_centroids_xy_by_index(exp_index=0, output_base_dir=OUTPUTS_DIR)\n",
        "visualisation.preview_propagated_labels_zslice(exp_index=0, z_slice=18, output_base_dir=OUTPUTS_DIR)"
      ],
      "metadata": {
        "id": "vutIkfMWGml6"
      },
      "execution_count": null,
      "outputs": []
    },
    {
      "cell_type": "markdown",
      "source": [
        "Part III: Measurement"
      ],
      "metadata": {
        "id": "m9e8G3CqH4Bz"
      }
    },
    {
      "cell_type": "code",
      "source": [
        "import importlib\n",
        "import measurement\n",
        "import measurevisualise\n",
        "importlib.reload(measurevisualise)\n",
        "importlib.reload(measurement)"
      ],
      "metadata": {
        "id": "7s10PyYoIe9w"
      },
      "execution_count": null,
      "outputs": []
    },
    {
      "cell_type": "code",
      "source": [
        "# ===  USER TOGGLES FOR MEASURES ===\n",
        "is_tracked = True\n",
        "compute_surface = True\n",
        "enable_intensity_measurement = False\n",
        "intensity_channel_mode = \"folder\"\n",
        "force = False\n",
        "RAW_INTENSITY_DIR = BASE_PROJECT_DIR / \"raw_intensity\"\n",
        "EXPORT_DIR = BASE_PROJECT_DIR / \"image_exports\"\n"
      ],
      "metadata": {
        "id": "zg2IvY-pIn4P"
      },
      "execution_count": null,
      "outputs": []
    },
    {
      "cell_type": "code",
      "source": [
        "# ===  LIST AVAILABLE EXPERIMENTS ===\n",
        "experiment_data = measurement.discover_experiments(OUTPUTS_DIR, is_tracked=is_tracked)\n",
        "measurement.summarise_experiment_data(experiment_data)"
      ],
      "metadata": {
        "id": "M51cpwqSIh-G"
      },
      "execution_count": null,
      "outputs": []
    },
    {
      "cell_type": "code",
      "source": [
        "# ===  MEASURE EXPERIMENTS ===\n",
        "measurement.run_all_measurements(\n",
        "    experiment_data=experiment_data,\n",
        "    is_tracked=is_tracked,\n",
        "    compute_surface=compute_surface,\n",
        "    enable_intensity_measurement=enable_intensity_measurement,\n",
        "    intensity_dir=RAW_INTENSITY_DIR,\n",
        "    force=force\n",
        ")\n"
      ],
      "metadata": {
        "id": "eTKTxmWXI1WJ"
      },
      "execution_count": null,
      "outputs": []
    },
    {
      "cell_type": "code",
      "source": [
        "# ===  LIST AVAILABLE MEASUREMENT CSVs ===\n",
        "measurevisualise.list_available_measurement_csvs(BASE_PROJECT_DIR)\n"
      ],
      "metadata": {
        "id": "YGKQ30VXJkOO"
      },
      "execution_count": null,
      "outputs": []
    },
    {
      "cell_type": "code",
      "source": [
        "import pandas as pd\n",
        "\n",
        "# Load the CSV and show all available measurement columns\n",
        "csv_path = BASE_PROJECT_DIR / \"outputs/outputs_demothelia/measured/regionprops_demothelia_tracked.csv\"\n",
        "df = pd.read_csv(csv_path)\n",
        "\n",
        "print(\"Available measurement columns:\")\n",
        "print(df.columns.tolist())\n"
      ],
      "metadata": {
        "id": "8svfyPtuK3k_"
      },
      "execution_count": null,
      "outputs": []
    },
    {
      "cell_type": "code",
      "source": [
        "\n",
        "# ===  CHOOSE ONE MEASUREMENT CSV TO EXPLORE ===\n",
        "csv_path = BASE_PROJECT_DIR / \"outputs/outputs_demothelia/measured/regionprops_demothelia_tracked.csv\"\n",
        "\n",
        "# ===  VIEW A MEASUREMENT OVERLAY ===\n",
        "timepoint = 0\n",
        "z_slice = 19\n",
        "value_column = \"area_voxels\"  # or e.g. \"intensity_mean_C1\", \"elongation\", etc.\n",
        "\n",
        "measurevisualise.view_by_csv(\n",
        "    csv_path=csv_path,\n",
        "    base_dir=BASE_PROJECT_DIR,\n",
        "    timepoint=timepoint,\n",
        "    z=z_slice,\n",
        "    value_column=value_column\n",
        ")"
      ],
      "metadata": {
        "id": "h_SzVvj2Jpa2"
      },
      "execution_count": null,
      "outputs": []
    },
    {
      "cell_type": "code",
      "source": [
        "# === Export TIFF ===\n",
        "measurevisualise.export_measurement_values_as_tiff(csv_path,\n",
        "                                  BASE_PROJECT_DIR,\n",
        "                                  timepoint = timepoint,\n",
        "                                  value_column = value_column,\n",
        "                                  output_dir=BASE_PROJECT_DIR / \"image_exports\")\n",
        "\n",
        "\n"
      ],
      "metadata": {
        "id": "MencJWI_LT26"
      },
      "execution_count": null,
      "outputs": []
    },
    {
      "cell_type": "code",
      "source": [],
      "metadata": {
        "id": "RWvRrvzvVfcw"
      },
      "execution_count": null,
      "outputs": []
    }
  ]
}