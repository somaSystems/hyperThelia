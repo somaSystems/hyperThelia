{
  "nbformat": 4,
  "nbformat_minor": 0,
  "metadata": {
    "colab": {
      "provenance": [],
      "gpuType": "L4",
      "private_outputs": true,
      "generative_ai_disabled": true
    },
    "kernelspec": {
      "name": "python3",
      "display_name": "Python 3"
    },
    "language_info": {
      "name": "python"
    },
    "accelerator": "GPU"
  },
  "cells": [
    {
      "cell_type": "markdown",
      "source": [
        "."
      ],
      "metadata": {
        "id": "xkgK7exX9pg7"
      }
    },
    {
      "cell_type": "markdown",
      "source": [
        "<p align=\"center\">\n",
        "  <a href=\"https://github.com/somaSystems/HyperThelia\" target=\"_blank\">\n",
        "    <img src=\"https://github.com/somaSystems/HyperThelia/blob/main/Hyperthelia_project/notebooks/lib/hyper_thelia.png?raw=1\" alt=\"HyperThelia Logo\" width=\"400\"/>\n",
        "  </a>\n",
        "</p>\n",
        "\n",
        "<p align=\"center\">\n",
        "  <strong>Segment. Track. Measure. <br> 3D Cell Analysis in Google Colab</strong>\n",
        "</p>"
      ],
      "metadata": {
        "id": "xuZidz8fzVAr"
      }
    },
    {
      "cell_type": "markdown",
      "source": [
        "<a name=\"top\"></a>\n",
        "# Hyperthelia Pipeline\n",
        "\n",
        "**Table of Contents**\n",
        "- [PART 1: Setup](#part-1-setup)\n",
        "- [PART 2: Segmentation](#part-2-segmentation)\n",
        "- [PART 3: Tracking](#part-3-tracking)\n",
        "- [PART 4: Measurement and Export](#part-4-measurement-and-export)\n",
        "\n",
        "To run everything, use **Runtime > Run all** from the menu.\n"
      ],
      "metadata": {
        "id": "6yvcz_y4Azwx"
      }
    },
    {
      "cell_type": "markdown",
      "source": [
        "## PART 1: Setup\n",
        "[Back to Top](#hyperthelia-pipeline)\n"
      ],
      "metadata": {
        "id": "TUY7sJmI8Euq"
      }
    },
    {
      "cell_type": "code",
      "source": [
        "# ========================\n",
        "# USER CONFIGURATIONS START\n",
        "# ========================\n",
        "from pathlib import Path\n",
        "\n",
        "# OPTIONAL: Mount Google Drive, to save and access data on your drive.\n",
        "# from google.colab import drive\n",
        "# drive.mount('/content/drive')\n",
        "\n",
        "CLONE_DIR = Path(\"/content/HyperThelia\")  # CLONE_DIR: Where to clone the project repo\n",
        "# CLONE_DIR = Path(\"/content/drive/MyDrive/HyperThelia\")  # Use Google Drive\n",
        "\n",
        "# RAW_DIR = None # RAW_DIR: Leave as None to show an upload box.\n",
        "RAW_DIR = Path(\"/content/HyperThelia/Hyperthelia_project/data_demo\")  # Or use built-in: Path(\"raw_data\")\n",
        "\n",
        "RAW_INTENSITY_DIR = Path(\"/content/HyperThelia/Hyperthelia_project/raw_intensity\")\n",
        "\n",
        "\n",
        "# BASE_DIR: Optional override for saving results (default = CLONE_DIR)\n",
        "# BASE_DIR = Path(\"/content/drive/MyDrive/HyperThelia_outputs\")"
      ],
      "metadata": {
        "id": "QDRLS9Km-CJt"
      },
      "execution_count": null,
      "outputs": []
    },
    {
      "cell_type": "code",
      "source": [
        "# === REPO CLONE LOGIC ===\n",
        "import shutil\n",
        "import subprocess\n",
        "\n",
        "REPO_URL = \"https://github.com/somaSystems/HyperThelia.git\"\n",
        "CLONE_BRANCH = \"hyperThelia\"\n",
        "force_clone = True\n",
        "\n",
        "if CLONE_DIR.exists() and force_clone:\n",
        "    print(f\"Force-cloning: removing {CLONE_DIR}\")\n",
        "    shutil.rmtree(CLONE_DIR)\n",
        "\n",
        "if not CLONE_DIR.exists():\n",
        "    print(f\"Cloning HyperThelia ({CLONE_BRANCH}) to {CLONE_DIR}...\")\n",
        "    subprocess.run([\"git\", \"clone\", \"--branch\", CLONE_BRANCH, REPO_URL, str(CLONE_DIR)], check=True)\n",
        "else:\n",
        "    print(\"Repo already exists. Set force_clone=True to re-clone.\")\n",
        "\n",
        "import sys\n",
        "lib_path = CLONE_DIR / \"Hyperthelia_project\" / \"notebooks\" / \"lib\"\n",
        "if str(lib_path) not in sys.path:\n",
        "    sys.path.insert(0, str(lib_path))\n",
        "\n",
        "# === RAW DATA UPLOAD INTERFACE ===\n",
        "from UsersDataDemo import choose_upload_method\n",
        "BASE_PROJECT_DIR = CLONE_DIR / \"Hyperthelia_project\"\n",
        "if RAW_DIR is None:\n",
        "    RAW_DIR = choose_upload_method(BASE_PROJECT_DIR)"
      ],
      "metadata": {
        "id": "bHIFrfPhG1V_"
      },
      "execution_count": null,
      "outputs": []
    },
    {
      "cell_type": "code",
      "source": [
        "# Install latest Cellpose from GitHub (includes SAM support)\n",
        "!pip install git+https://github.com/mouseland/cellpose.git"
      ],
      "metadata": {
        "id": "FMBIVLeiTbSg"
      },
      "execution_count": null,
      "outputs": []
    },
    {
      "cell_type": "code",
      "source": [
        "# === SESSION SETUP LOCATE LIB AND FUNCTIONS ===\n",
        "from setup_functions import setup_hyperthelia_project\n",
        "from setup_functions import setup_project_io\n",
        "\n",
        "BASE_PROJECT_DIR, RAW_DIR, OUTPUTS_DIR = setup_hyperthelia_project(\n",
        "    clone_dir=CLONE_DIR,\n",
        "    raw_dir=RAW_DIR,\n",
        "    base_dir=globals().get(\"BASE_DIR\", None)\n",
        ")\n",
        "\n",
        "# === SESSION SETUP IMPORTS AND FUNCTIONS ===\n",
        "import segmentation\n",
        "import importlib\n",
        "importlib.reload(segmentation)\n",
        "\n",
        "# Use the RAW_DIR defined earlier (from user upload or demo)\n",
        "RAW_DIR, OUTPUTS_DIR = setup_project_io(BASE_PROJECT_DIR, raw_dir=RAW_DIR)\n",
        "\n",
        "# SETUP LOGGER, CHECK GPU, and CELLPOSE MODEL\n",
        "from segmentation import setup_cellpose_model\n",
        "model = setup_cellpose_model(gpu=True)\n",
        "\n"
      ],
      "metadata": {
        "id": "vhy__I2x68KA"
      },
      "execution_count": null,
      "outputs": []
    },
    {
      "cell_type": "code",
      "source": [
        "# === LOOK FOR EXPERIMENTS IN RAW_DIR ===\n",
        "from segmentation import print_experiment_summary\n",
        "print_experiment_summary(RAW_DIR)\n"
      ],
      "metadata": {
        "id": "lgp7I79EidHc"
      },
      "execution_count": null,
      "outputs": []
    },
    {
      "cell_type": "markdown",
      "source": [
        "<a name=\"part-2-segmentation\"></a>\n",
        "## PART 2: Segmentation\n",
        "\n",
        "[Back to Top](#top)"
      ],
      "metadata": {
        "id": "iiGEhn-R_UY_"
      }
    },
    {
      "cell_type": "code",
      "source": [
        "from segmentation import run_segmentation_pipeline\n",
        "\n",
        "# === SEGMENTATION PARAMETERS ===\n",
        "Z_AXIS = 0\n",
        "CHANNEL_AXIS = None\n",
        "BATCH_SIZE = 32\n",
        "DO_3D = False\n",
        "STITCH_THRESHOLD = 0.5\n",
        "\n",
        "# === RUN PIPELINE ===\n",
        "run_segmentation_pipeline(\n",
        "    RAW_DIR,\n",
        "    OUTPUTS_DIR,\n",
        "    model,\n",
        "    z_axis=Z_AXIS,\n",
        "    channel_axis=CHANNEL_AXIS,\n",
        "    batch_size=BATCH_SIZE,\n",
        "    do_3D=DO_3D,\n",
        "    stitch_threshold=STITCH_THRESHOLD\n",
        ")\n"
      ],
      "metadata": {
        "id": "BspRpjkaaDoN"
      },
      "execution_count": null,
      "outputs": []
    },
    {
      "cell_type": "code",
      "source": [
        "from measurevisualise import interactive_segmentation_viewer\n",
        "interactive_segmentation_viewer(BASE_PROJECT_DIR / \"outputs\")\n"
      ],
      "metadata": {
        "id": "aHE8SXW1wlY5"
      },
      "execution_count": null,
      "outputs": []
    },
    {
      "cell_type": "markdown",
      "source": [
        "<a name=\"part-3-tracking\"></a>\n",
        "## PART 3: Tracking\n",
        "\n",
        "[Back to Top](#top)"
      ],
      "metadata": {
        "id": "z05Dx6zyD7-6"
      }
    },
    {
      "cell_type": "code",
      "source": [
        "import tracking\n",
        "import propagation\n",
        "import visualisation\n",
        "\n",
        "import importlib\n",
        "# importlib.reload(tracking)\n",
        "# importlib.reload(propagation)\n",
        "# importlib.reload(visualisation)"
      ],
      "metadata": {
        "id": "XdexfkA3E3Z2"
      },
      "execution_count": null,
      "outputs": []
    },
    {
      "cell_type": "code",
      "source": [
        "# === AUTO CONFIGURATION ===\n",
        "\n",
        "# Tracking parameters (editable by user)\n",
        "XY_UM = 0.325\n",
        "Z_UM = 1.0\n",
        "MAX_DIST_UM = 10\n",
        "MIN_VOLUME = 5000\n",
        "MAX_VOLUME = 80000\n",
        "EDGE_MARGIN = 1\n",
        "TRACKING_MODE = \"nearest\""
      ],
      "metadata": {
        "id": "9rQEOIxhEANJ"
      },
      "execution_count": null,
      "outputs": []
    },
    {
      "cell_type": "code",
      "source": [
        "# === STEP 1: VISUALISE PRE-TRACKING ===\n",
        "from visualisation import plot_volume_histogram_for_experiment, view_segmentation_slice_with_boundaries, get_segmented_tiffs_by_experiment\n",
        "\n",
        "experiments = get_segmented_tiffs_by_experiment(OUTPUTS_DIR)\n",
        "\n",
        "plot_volume_histogram_for_experiment(exp_index=0,\n",
        "                                                   experiments_dict=experiments,\n",
        "                                                   min_volume=MIN_VOLUME,\n",
        "                                                   max_volume=MAX_VOLUME)\n",
        "\n",
        "view_segmentation_slice_with_boundaries(exp_index=0,\n",
        "                                        experiments_dict=experiments,\n",
        "                                        time_index=0,\n",
        "                                        z_slice=18,\n",
        "                                        edge_margin=EDGE_MARGIN)\n",
        "\n"
      ],
      "metadata": {
        "id": "6rWrlE7pEAKS"
      },
      "execution_count": null,
      "outputs": []
    },
    {
      "cell_type": "code",
      "source": [
        "# === STEP 2: RUN TRACKING ===\n",
        "tracking.run_tracking_pipeline(\n",
        "    output_base_dir=OUTPUTS_DIR,\n",
        "    xy_um=XY_UM,\n",
        "    z_um=Z_UM,\n",
        "    max_dist_um=MAX_DIST_UM,\n",
        "    min_volume=MIN_VOLUME,\n",
        "    max_volume=MAX_VOLUME,\n",
        "    edge_margin=EDGE_MARGIN,\n",
        "    tracking_mode=TRACKING_MODE\n",
        ")"
      ],
      "metadata": {
        "id": "d-0F1SiUEx2w"
      },
      "execution_count": null,
      "outputs": []
    },
    {
      "cell_type": "code",
      "source": [
        "# === STEP 3: PROPAGATE LABELS ===\n",
        "propagation.run_propagation_pipeline(output_base_dir=OUTPUTS_DIR)"
      ],
      "metadata": {
        "id": "utXpl1siGfwy"
      },
      "execution_count": null,
      "outputs": []
    },
    {
      "cell_type": "code",
      "source": [
        "# === STEP 4: VISUALISE POST-TRACKING ===\n",
        "visualisation.plot_tracked_centroids_xy_by_index(exp_index=0, output_base_dir=OUTPUTS_DIR)\n",
        "visualisation.preview_propagated_labels_zslice(exp_index=0, z_slice=13, output_base_dir=OUTPUTS_DIR)"
      ],
      "metadata": {
        "id": "vutIkfMWGml6"
      },
      "execution_count": null,
      "outputs": []
    },
    {
      "cell_type": "code",
      "source": [
        "# === PART 5: Create Regions (cytoplasm & membrane) ===\n",
        "import importlib, regions\n",
        "importlib.reload(regions)\n",
        "\n",
        "# Create eroded cytoplasm, then membrane = full − cytoplasm\n",
        "regions.create_cytoplasm_and_membrane(\n",
        "    output_base_dir=OUTPUTS_DIR,\n",
        "    erosion_px=4,               # shrink cells by 4 px\n",
        "    cytoplasm_region=\"cytoplasm\",\n",
        "    membrane_region=\"membrane\"\n",
        ")\n"
      ],
      "metadata": {
        "id": "F5G7cTQ9U9C6"
      },
      "execution_count": null,
      "outputs": []
    },
    {
      "cell_type": "markdown",
      "source": [
        "<a name=\"part-4-measurement-and-export\"></a>\n",
        "## PART 4: Measurement and Export\n",
        "\n",
        "[Back to Top](#top)\n"
      ],
      "metadata": {
        "id": "m9e8G3CqH4Bz"
      }
    },
    {
      "cell_type": "code",
      "source": [
        "import importlib\n",
        "import measurement\n",
        "import measurevisualise\n",
        "importlib.reload(measurevisualise)\n",
        "importlib.reload(measurement)"
      ],
      "metadata": {
        "id": "7s10PyYoIe9w"
      },
      "execution_count": null,
      "outputs": []
    },
    {
      "cell_type": "code",
      "source": [
        "# ===  USER TOGGLES FOR MEASURES ===\n",
        "is_tracked = True\n",
        "compute_surface = True\n",
        "enable_intensity_measurement = True\n",
        "intensity_channel_mode = \"folder\"\n",
        "force = False\n",
        "# RAW_INTENSITY_DIR = BASE_PROJECT_DIR / \"raw_intensity\"\n",
        "EXPORT_DIR = BASE_PROJECT_DIR / \"image_exports\"\n"
      ],
      "metadata": {
        "id": "zg2IvY-pIn4P"
      },
      "execution_count": null,
      "outputs": []
    },
    {
      "cell_type": "code",
      "source": [
        "# ===  LIST AVAILABLE EXPERIMENTS ===\n",
        "experiment_data = measurement.discover_experiments(OUTPUTS_DIR, is_tracked=is_tracked)\n",
        "measurement.summarise_experiment_data(experiment_data)"
      ],
      "metadata": {
        "id": "M51cpwqSIh-G"
      },
      "execution_count": null,
      "outputs": []
    },
    {
      "cell_type": "code",
      "source": [
        "\n",
        "measurement.run_all_measurements_for_all_sets(\n",
        "    outputs_dir=OUTPUTS_DIR,\n",
        "    is_tracked=is_tracked,\n",
        "    compute_surface=compute_surface,\n",
        "    enable_intensity_measurement=enable_intensity_measurement,\n",
        "    intensity_dir=RAW_INTENSITY_DIR,\n",
        "    force=force,\n",
        "    measure_mode=\"all\"\n",
        ")\n",
        "\n"
      ],
      "metadata": {
        "id": "eTKTxmWXI1WJ"
      },
      "execution_count": null,
      "outputs": []
    },
    {
      "cell_type": "code",
      "source": [
        "import pandas as pd\n",
        "# Load the CSV and show all available measurement columns\n",
        "csv_path = measurevisualise.list_available_measurement_csvs(BASE_PROJECT_DIR, return_first=True)\n",
        "df = pd.read_csv(csv_path)\n",
        "\n",
        "print(\"Available measurement columns:\")\n",
        "print(df.columns.tolist())\n"
      ],
      "metadata": {
        "id": "8svfyPtuK3k_"
      },
      "execution_count": null,
      "outputs": []
    },
    {
      "cell_type": "code",
      "source": [
        "from measurevisualise import interactive_measurement_viewer\n",
        "interactive_measurement_viewer(BASE_PROJECT_DIR / \"outputs\")\n"
      ],
      "metadata": {
        "id": "B_AWCNHQP8aD"
      },
      "execution_count": null,
      "outputs": []
    },
    {
      "cell_type": "code",
      "source": [
        "#  Scripted mode: displaying specified measurement view\n",
        "\n",
        "from measurevisualise import interactive_measurement_viewer\n",
        "\n",
        "interactive_measurement_viewer(\n",
        "    output_base_dir=BASE_PROJECT_DIR / \"outputs\",\n",
        "    csv_path=\"outputs_demothelia/measured/regionprops_demothelia_tracked_2D.csv\",\n",
        "    timepoint=1,\n",
        "    z=12,\n",
        "    value_column=\"area_2D\"\n",
        ")\n",
        "\n"
      ],
      "metadata": {
        "id": "h_SzVvj2Jpa2"
      },
      "execution_count": null,
      "outputs": []
    },
    {
      "cell_type": "code",
      "source": [
        "from measurevisualise import export_measurement_values_as_tiff\n",
        "\n",
        "csv_path = BASE_PROJECT_DIR / \"outputs\" / \"outputs_demothelia\" / \"measured\" / \"regionprops_demothelia_tracked_3D.csv\"\n",
        "output_base_dir = BASE_PROJECT_DIR / \"outputs\"\n",
        "\n",
        "export_measurement_values_as_tiff(\n",
        "    csv_path=csv_path,\n",
        "    base_dir=output_base_dir,\n",
        "    timepoint=1,\n",
        "    value_column=\"area_voxels\",\n",
        ")\n"
      ],
      "metadata": {
        "id": "MencJWI_LT26"
      },
      "execution_count": null,
      "outputs": []
    },
    {
      "cell_type": "code",
      "source": [
        "from datetime import datetime\n",
        "print(f\"Finished run at {datetime.now().strftime('%Y-%m-%d %H:%M:%S')}\")"
      ],
      "metadata": {
        "id": "RWvRrvzvVfcw"
      },
      "execution_count": null,
      "outputs": []
    },
    {
      "cell_type": "code",
      "source": [],
      "metadata": {
        "id": "YpXvuW9gPZpP"
      },
      "execution_count": null,
      "outputs": []
    }
  ]
}